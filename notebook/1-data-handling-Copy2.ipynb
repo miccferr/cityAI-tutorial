{
 "cells": [
  {
   "cell_type": "code",
   "execution_count": 156,
   "metadata": {
    "collapsed": false
   },
   "outputs": [],
   "source": [
    "import os\n",
    "import csv\n",
    "from shapely.geometry import Point, LineString, Polygon, MultiPoint, mapping,shape\n",
    "from fiona import collection\n",
    "import matplotlib.pyplot as plt\n",
    "import pandas as pd\n",
    "import geopandas as gpd\n",
    "import pysal"
   ]
  },
  {
   "cell_type": "markdown",
   "metadata": {},
   "source": [
    "# SHAPELY + FIONA = GIS ftw!"
   ]
  },
  {
   "cell_type": "markdown",
   "metadata": {},
   "source": [
    "### What is Shapely?\n",
    "> Shapely is a BSD-licensed Python package for manipulation and analysis of planar geometric objects. It is based on the widely deployed GEOS (the engine of PostGIS) and JTS (from which GEOS is ported) libraries.  \n",
    "\n",
    "### Why should I use it? \n",
    "\n",
    "\n",
    "> - The first premise of Shapely is that Python programmers should be able to **perform PostGIS type geometry operations outside of an RDBMS**... if there’s no mandate to manage (the “M” in “RDBMS”) the data over time in the database we’re using the wrong tool for the job\n",
    "\n",
    "> - The second premise is that the **persistence, serialization, and map projection** of features are significant, but *orthogonal problems*.\n",
    "\n",
    "> - The third premise is that **Python idioms trump GIS** (or Java, in this case, since the GEOS library is derived from JTS, a Java project) idioms.\n",
    "\n",
    "(source: [Shapely Docs](http://toblerity.org/shapely/manual.html))\n",
    "\n",
    "\n",
    "...which means that you should/could use Shapely whenever you need to build or perform fast, off-the-shelf, customisable operations on geographic features that adhere to the [open geospatial community standards](http://www.opengeospatial.org/). \n",
    "\n",
    "Always be mindful though that, while Shapely is great for working on your spatial data geometries, it **does NOT** take care of their geographic dimension, i.e. it treats data as entities on a flat Euclidean plane, it does not consider any geographic projection (but there's [Fiona](https://github.com/Toblerity/Fiona) for that!)."
   ]
  },
  {
   "cell_type": "markdown",
   "metadata": {},
   "source": [
    "### How does it work?\n",
    "\n",
    "![](../imgs/640px-Venn_A_intersect_B.svg.png)\n",
    "(photograph by [Cepheus](https://commons.wikimedia.org/wiki/File:Venn_A_intersect_B.svg), distributed under a CC-BY 2.0 license).\n",
    " \n",
    " \n",
    "Shapely's conceptualisation of geographic features is built on predicates borrowed from [Set Theory](https://en.wikipedia.org/wiki/Set_theory)  a branch of mathematics that studies **sets**, or informal collections of objects.\n",
    "\n",
    "\n",
    "### Spatial Data Model \n",
    "\n",
    "Shapely's **Spatial Data Model** is composed by three geometrical primitives (*Points, Curves* and *Surfaces*) represented by  three collection, or sets, of points in the plane. These are the *interior*, *boundary* and *exterior* sets; each mutually exclusive to the others.\n",
    "\n",
    "Thus, to represent a **Point** Shapely uses\n",
    ">...an interior set of exactly one point, a boundary set of exactly no points, and an exterior set of all other points.\n",
    "\n",
    "a **Curve** is associated with \n",
    "> ...an interior set consisting of the infinitely many points along its length (imagine a Point dragged in space), a boundary set consisting of its two end points, and an exterior set of all other points\n",
    "\n",
    "while a **Surface** has\n",
    "> an interior set consisting of the infinitely many points within (imagine a Curve dragged in space to cover an area), a boundary set consisting of one or more Curves, and an exterior set of all other points including those within holes that might exist in the surface\n",
    "(source: [Shapely Docs](http://toblerity.org/shapely/manual.html))\n",
    "\n",
    "This (really brief) theory dive is fundamental to understand the Shapely's way of \"seeing\" data, and allows a more proficient use of its API.\n",
    "\n",
    "Dimensionally Extended Nine-Intersection Model (DE-9IM)\n",
    "http://giswiki.hsr.ch/images/3/3d/9dem_springer.pdf\n"
   ]
  },
  {
   "cell_type": "markdown",
   "metadata": {},
   "source": [
    "## Let's build something from scratch with Shapely\n",
    "\n",
    "Starting with simple points!"
   ]
  },
  {
   "cell_type": "code",
   "execution_count": 157,
   "metadata": {
    "collapsed": false
   },
   "outputs": [
    {
     "name": "stdout",
     "output_type": "stream",
     "text": [
      "opendot is a POINT (9.221946000000001 45.447798) and this is its type: <class 'shapely.geometry.point.Point'>\n"
     ]
    }
   ],
   "source": [
    "# let's create some points\n",
    "# FIRST LONG THEN LAT!!!\n",
    "domm = Point(9.191068,45.464041)\n",
    "opendot = Point(9.221946, 45.447798)\n",
    "\n",
    "# check everything went fine\n",
    "print \"opendot is a {} and this is its type: {}\".format( opendot, type(opendot) )"
   ]
  },
  {
   "cell_type": "code",
   "execution_count": 158,
   "metadata": {
    "collapsed": false
   },
   "outputs": [
    {
     "name": "stdout",
     "output_type": "stream",
     "text": [
      "(array('d', [9.191068]), array('d', [45.464041]))\n",
      "Milan's Duomo is located at lon 9.191068 lat 45.464041\n"
     ]
    }
   ],
   "source": [
    "#since these features are plain python objects, they come with properties and methods\n",
    "# e.g. coordinates\n",
    "print domm.coords.xy\n",
    "print \"Milan's Duomo is located at lon {} lat {}\".format(domm.x, domm.y)"
   ]
  },
  {
   "cell_type": "markdown",
   "metadata": {},
   "source": [
    "and of course, we can attach custom properties"
   ]
  },
  {
   "cell_type": "code",
   "execution_count": 159,
   "metadata": {
    "collapsed": false
   },
   "outputs": [],
   "source": [
    "domm.name = \"Duomo\"\n",
    "opendot.name = \"OpenDot\""
   ]
  },
  {
   "cell_type": "markdown",
   "metadata": {},
   "source": [
    "**NOTE**: the feature's coordinates are based on their current projection, i.e. degrees in WGS84, meters in UTM"
   ]
  },
  {
   "cell_type": "code",
   "execution_count": 160,
   "metadata": {
    "collapsed": false
   },
   "outputs": [
    {
     "name": "stdout",
     "output_type": "stream",
     "text": [
      "The distance between Duomo and Opendot is 0.03 decimal degrees\n"
     ]
    }
   ],
   "source": [
    "# what is the distance between Duomo and Opendot?\n",
    "point_dist = domm.distance(opendot)\n",
    "print \"The distance between Duomo and Opendot is {0:.2f} decimal degrees\".format(point_dist)"
   ]
  },
  {
   "cell_type": "markdown",
   "metadata": {},
   "source": [
    "adding some lines (Shapely's LineString)..."
   ]
  },
  {
   "cell_type": "code",
   "execution_count": 161,
   "metadata": {
    "collapsed": false
   },
   "outputs": [
    {
     "data": {
      "text/plain": [
       "shapely.geometry.linestring.LineString"
      ]
     },
     "execution_count": 161,
     "metadata": {},
     "output_type": "execute_result"
    }
   ],
   "source": [
    "# Adding a 3rd point: Opendot to Duomo via Navigli\n",
    "navigli = Point(9.177940,45.452380)\n",
    "navigli.name= \"Navigli\"\n",
    "\n",
    "# create a line\n",
    "opendot_2_domm =  LineString([opendot, navigli, domm])\n",
    "type(opendot_2_domm)"
   ]
  },
  {
   "cell_type": "code",
   "execution_count": 162,
   "metadata": {
    "collapsed": false
   },
   "outputs": [
    {
     "name": "stdout",
     "output_type": "stream",
     "text": [
      "the total lenght of this line is 0.0618030381875\n"
     ]
    }
   ],
   "source": [
    "# being a python object, you can invoke its methods as well..\n",
    "print \"the total lenght of this line is {}\".format(opendot_2_domm.length)"
   ]
  },
  {
   "cell_type": "markdown",
   "metadata": {},
   "source": [
    "let's see what we got here. We are going to plot the geometries using the famous Python plotting library [matplotlib](https://matplotlib.org/). "
   ]
  },
  {
   "cell_type": "code",
   "execution_count": 163,
   "metadata": {
    "collapsed": false
   },
   "outputs": [
    {
     "data": {
      "image/png": "[encoded data removed]",
      "text/plain": [
       "<matplotlib.figure.Figure at 0x12287aa50>"
      ]
     },
     "metadata": {},
     "output_type": "display_data"
    }
   ],
   "source": [
    "# extract coordinates to plot\n",
    "x,y = opendot_2_domm.xy\n",
    "\n",
    "# define a \"figure\" environment\n",
    "fig = plt.figure(1, figsize=(5,5), dpi=90)\n",
    "\n",
    "# add a subplot environment in case we want multiple plots\n",
    "ax = fig.add_subplot(111)\n",
    "\n",
    "# add some style\n",
    "ax.plot(x, y, color='#6699cc', alpha=0.7,\n",
    "    linewidth=3, solid_capstyle='round', zorder=2)\n",
    "\n",
    "# set the title\n",
    "ax.set_title('OpenDot to Duomo')\n",
    "\n",
    "# plot!\n",
    "plt.show()"
   ]
  },
  {
   "cell_type": "markdown",
   "metadata": {},
   "source": [
    "and a Polygon (you get the idea...)"
   ]
  },
  {
   "cell_type": "code",
   "execution_count": 166,
   "metadata": {
    "collapsed": false
   },
   "outputs": [],
   "source": [
    "domm_shape = Polygon([(\n",
    "        9.19055700302124,\n",
    "        45.46389314420728\n",
    "    ),\n",
    "    (\n",
    "        9.19257402420044,\n",
    "        45.46389314420728\n",
    "    ),\n",
    "    (\n",
    "        9.19257402420044,\n",
    "        45.46448007254733\n",
    "    ),\n",
    "    (\n",
    "        9.19055700302124,\n",
    "        45.46448007254733\n",
    "    ),\n",
    "    (\n",
    "        9.19055700302124,\n",
    "        45.46389314420728\n",
    "    )])"
   ]
  },
  {
   "cell_type": "code",
   "execution_count": 167,
   "metadata": {
    "collapsed": true
   },
   "outputs": [],
   "source": [
    "# Calculate the polygon centroid\n",
    "domm_shape_centroid = domm_shape.centroid\n",
    "    \n",
    "# ...its area\n",
    "domm_shape_area = domm_shape.area\n",
    "\n",
    "# ...bounding box\n",
    "domm_shape_bbox = domm_shape.bounds\n",
    "\n",
    "# ...perimeter\n",
    "domm_shape_ext = domm_shape.exterior\n",
    "\n",
    "# the length of the exterior\n",
    "domm_shape_ext_length = domm_shape.length"
   ]
  },
  {
   "cell_type": "markdown",
   "metadata": {},
   "source": [
    "### Geometry operations\n",
    "\n",
    "Once built, operating on Shapely's geometries is then pretty straightforward."
   ]
  },
  {
   "cell_type": "code",
   "execution_count": 285,
   "metadata": {
    "collapsed": false
   },
   "outputs": [],
   "source": [
    "# make a buffer around Opendot's location\n",
    "opendot_buffer = opendot.buffer(0.005)"
   ]
  },
  {
   "cell_type": "code",
   "execution_count": 288,
   "metadata": {
    "collapsed": false
   },
   "outputs": [
    {
     "name": "stdout",
     "output_type": "stream",
     "text": [
      "It is True that Opendot location is within its buffer\n",
      "Does this buffer contain Duomo's location? False \n"
     ]
    },
    {
     "data": {
      "text/plain": [
       "True"
      ]
     },
     "execution_count": 288,
     "metadata": {},
     "output_type": "execute_result"
    }
   ],
   "source": [
    "# check if Opendot itself is contained in it\n",
    "print \"It is {} that Opendot location is within its buffer\".format(opendot.within(opendot_buffer))\n",
    "\n",
    "# check if the buffer contains duomo\n",
    "print \"Does this buffer contain Duomo's location? {} \".format(opendot_buffer.contains(domm)) \n",
    "\n",
    "# is the path from Opendot to Duomo crossing the buffer?\n",
    "opendot_2_domm.intersects(opendot_buffer)"
   ]
  },
  {
   "cell_type": "markdown",
   "metadata": {},
   "source": [
    "## I/O with Fiona\n",
    "\n",
    "let's save our points to a ShapeFile"
   ]
  },
  {
   "cell_type": "code",
   "execution_count": 168,
   "metadata": {
    "collapsed": false
   },
   "outputs": [],
   "source": [
    "# schema to mimic a GeoJSON structure\n",
    "schema = {'geometry': 'Point', 'properties': {'name': 'str'}}\n",
    "\n",
    "# array containing multiple objects\n",
    "points = [domm, navigli, opendot]\n",
    "\n",
    "# write file to the filesystem\n",
    "with collection(\"points.shp\", \"w\", \"ESRI Shapefile\", schema) as output:\n",
    "    for point in points:\n",
    "        output.write({\n",
    "            'properties': {\n",
    "                'name': point.name\n",
    "            },\n",
    "            'geometry': mapping(point)\n",
    "        })"
   ]
  },
  {
   "cell_type": "markdown",
   "metadata": {},
   "source": [
    "if we then combine Fiona's IO capabilities with the \"Shapely way\" of manipulating geometries we can obtain pretty sweet results. Note how we use the `buffer()` method from Shapely directly when writing a new file?"
   ]
  },
  {
   "cell_type": "code",
   "execution_count": 169,
   "metadata": {
    "collapsed": true
   },
   "outputs": [],
   "source": [
    "with collection(\"points.shp\", \"r\") as input:\n",
    "    schema = {'geometry': 'Polygon', 'properties': {'name': 'str'}}\n",
    "    with collection( \"points_buffer.shp\", \"w\", \"ESRI Shapefile\", schema) as output:\n",
    "        for point in input:\n",
    "            output.write({\n",
    "                'properties': {\n",
    "                    'name': point['properties']['name']\n",
    "                },\n",
    "                'geometry': mapping(shape(point['geometry']).buffer(0.005))\n",
    "            })"
   ]
  },
  {
   "cell_type": "markdown",
   "metadata": {},
   "source": [
    "Ok, that was the low level way of building and working with geographic features...But there must be an easier way!\n",
    "\n",
    "![](../imgs/easier.jpg)\n",
    "\n",
    "# ENTER (GEO)PANDAS!"
   ]
  },
  {
   "cell_type": "markdown",
   "metadata": {},
   "source": [
    "A **Geopandas dataframe** implements a Pandas-like datastructure, with the additional feature of understanding spatial data, effectively extending Pandas' lexycon into the geospatial world!\n",
    "\n",
    "From the [Geopandas Docs](http://geopandas.org/):\n",
    "> [Geopandas] allows spatial operations on geometric types. Geometric operations are performed by **shapely**. Geopandas further depends on **fiona** for file access and descartes and **matplotlib** for plotting\n",
    "\n",
    "Look at the names in bold; do the sound familiar? ;)\n",
    "\n",
    "Let's see what we can do with GeoPandas:"
   ]
  },
  {
   "cell_type": "code",
   "execution_count": 170,
   "metadata": {
    "collapsed": false
   },
   "outputs": [
    {
     "data": {
      "text/html": [
       "<div>\n",
       "<table border=\"1\" class=\"dataframe\">\n",
       "  <thead>\n",
       "    <tr style=\"text-align: right;\">\n",
       "      <th></th>\n",
       "      <th>ANNO</th>\n",
       "      <th>BIKE_SH</th>\n",
       "      <th>ID</th>\n",
       "      <th>INDIRIZZO</th>\n",
       "      <th>LOCALIZ</th>\n",
       "      <th>STALLI</th>\n",
       "      <th>geometry</th>\n",
       "    </tr>\n",
       "  </thead>\n",
       "  <tbody>\n",
       "    <tr>\n",
       "      <th>0</th>\n",
       "      <td>2008</td>\n",
       "      <td>001 Duomo 1</td>\n",
       "      <td>1</td>\n",
       "      <td>P.za Duomo</td>\n",
       "      <td>Carreggiata</td>\n",
       "      <td>24</td>\n",
       "      <td>POINT (1514805.505151672 5034614.816062573)</td>\n",
       "    </tr>\n",
       "    <tr>\n",
       "      <th>1</th>\n",
       "      <td>2008</td>\n",
       "      <td>002 San Babila</td>\n",
       "      <td>2</td>\n",
       "      <td>P.za S.Babila</td>\n",
       "      <td>Marciapiede</td>\n",
       "      <td>24</td>\n",
       "      <td>POINT (1515473.721959682 5034810.752500436)</td>\n",
       "    </tr>\n",
       "    <tr>\n",
       "      <th>2</th>\n",
       "      <td>2008</td>\n",
       "      <td>003 Cadorna 1</td>\n",
       "      <td>3</td>\n",
       "      <td>P.za Cadorna</td>\n",
       "      <td>Marciapiede</td>\n",
       "      <td>21</td>\n",
       "      <td>POINT (1513759.627472495 5034976.764064158)</td>\n",
       "    </tr>\n",
       "    <tr>\n",
       "      <th>3</th>\n",
       "      <td>2008</td>\n",
       "      <td>004 Lanza</td>\n",
       "      <td>4</td>\n",
       "      <td>L.go Greppi</td>\n",
       "      <td>Marciapiede</td>\n",
       "      <td>24</td>\n",
       "      <td>POINT (1514251.704793887 5035452.372596722)</td>\n",
       "    </tr>\n",
       "    <tr>\n",
       "      <th>4</th>\n",
       "      <td>2008</td>\n",
       "      <td>005 Università Cattolica</td>\n",
       "      <td>5</td>\n",
       "      <td>P.za S.Ambrogio</td>\n",
       "      <td>Marciapiede</td>\n",
       "      <td>24</td>\n",
       "      <td>POINT (1513826.207538738 5034425.72845157)</td>\n",
       "    </tr>\n",
       "  </tbody>\n",
       "</table>\n",
       "</div>"
      ],
      "text/plain": [
       "   ANNO                   BIKE_SH  ID        INDIRIZZO      LOCALIZ  STALLI  \\\n",
       "0  2008               001 Duomo 1   1       P.za Duomo  Carreggiata      24   \n",
       "1  2008            002 San Babila   2    P.za S.Babila  Marciapiede      24   \n",
       "2  2008             003 Cadorna 1   3     P.za Cadorna  Marciapiede      21   \n",
       "3  2008                 004 Lanza   4      L.go Greppi  Marciapiede      24   \n",
       "4  2008  005 Università Cattolica   5  P.za S.Ambrogio  Marciapiede      24   \n",
       "\n",
       "                                      geometry  \n",
       "0  POINT (1514805.505151672 5034614.816062573)  \n",
       "1  POINT (1515473.721959682 5034810.752500436)  \n",
       "2  POINT (1513759.627472495 5034976.764064158)  \n",
       "3  POINT (1514251.704793887 5035452.372596722)  \n",
       "4   POINT (1513826.207538738 5034425.72845157)  "
      ]
     },
     "execution_count": 170,
     "metadata": {},
     "output_type": "execute_result"
    }
   ],
   "source": [
    "# importing a shapefile is a breeze with Geopandas!\n",
    "bike_mi = gpd.read_file(filename=\"../data/BIKE_SH.shp\")\n",
    "# check the intial rows\n",
    "bike_mi.head()"
   ]
  },
  {
   "cell_type": "markdown",
   "metadata": {},
   "source": [
    "See that field called **geometry**? That's where the spatial representation of each feature in the dataset gets saved. As mentioned before, the features are stored using Shapely's model. It is therefore possible to interact with them using the usual functionalities of Shapely! \n",
    "\n",
    "The geometry field is also useful for (re)projecting the data and/or modify the features"
   ]
  },
  {
   "cell_type": "code",
   "execution_count": 171,
   "metadata": {
    "collapsed": false
   },
   "outputs": [
    {
     "name": "stdout",
     "output_type": "stream",
     "text": [
      "{u'lon_0': 9, u'k': 0.9996, u'ellps': u'intl', u'y_0': 0, u'no_defs': True, u'proj': u'tmerc', u'x_0': 1500000, u'units': u'm', u'lat_0': 0}\n"
     ]
    }
   ],
   "source": [
    "# what is bike_mi's initial projection?\n",
    "print bike_mi.crs\n",
    "\n",
    "# save the shapefile CRS in a variable for later use\n",
    "prj = bike_mi.crs"
   ]
  },
  {
   "cell_type": "markdown",
   "metadata": {},
   "source": [
    "Geopandas allows also a *quick-and-easy* way to visually inspect the data"
   ]
  },
  {
   "cell_type": "code",
   "execution_count": 172,
   "metadata": {
    "collapsed": false
   },
   "outputs": [
    {
     "data": {
      "image/png": "[encoded data removed]",
      "text/plain": [
       "<matplotlib.figure.Figure at 0x122b1c510>"
      ]
     },
     "metadata": {},
     "output_type": "display_data"
    }
   ],
   "source": [
    "# let's plot the newly imported geometries\n",
    "bike_mi.plot()\n",
    "plt.show()"
   ]
  },
  {
   "cell_type": "markdown",
   "metadata": {},
   "source": [
    "but its true strenght lies in the Pandas datastructure. Manipulating/Slicing/Subsetting data becomes (almost) a breeze. For instance, let's select only the newest BikeMi stations:"
   ]
  },
  {
   "cell_type": "code",
   "execution_count": 173,
   "metadata": {
    "collapsed": false
   },
   "outputs": [
    {
     "data": {
      "text/plain": [
       "array([2008, 2009, 2012, 2011, 2013])"
      ]
     },
     "execution_count": 173,
     "metadata": {},
     "output_type": "execute_result"
    }
   ],
   "source": [
    "# check how many years are present in the data\n",
    "bike_mi.ANNO.unique()"
   ]
  },
  {
   "cell_type": "code",
   "execution_count": 174,
   "metadata": {
    "collapsed": false
   },
   "outputs": [
    {
     "data": {
      "text/html": [
       "<div>\n",
       "<table border=\"1\" class=\"dataframe\">\n",
       "  <thead>\n",
       "    <tr style=\"text-align: right;\">\n",
       "      <th></th>\n",
       "      <th>ANNO</th>\n",
       "      <th>BIKE_SH</th>\n",
       "      <th>ID</th>\n",
       "      <th>INDIRIZZO</th>\n",
       "      <th>LOCALIZ</th>\n",
       "      <th>STALLI</th>\n",
       "      <th>geometry</th>\n",
       "    </tr>\n",
       "  </thead>\n",
       "  <tbody>\n",
       "    <tr>\n",
       "      <th>107</th>\n",
       "      <td>2013</td>\n",
       "      <td>109 Tunisia - Lecco - Bellintani</td>\n",
       "      <td>109</td>\n",
       "      <td>V.le Tunisia - Bellintani</td>\n",
       "      <td>Marciapiede</td>\n",
       "      <td>30</td>\n",
       "      <td>POINT (1516045.226974665 5036023.154826893)</td>\n",
       "    </tr>\n",
       "    <tr>\n",
       "      <th>109</th>\n",
       "      <td>2013</td>\n",
       "      <td>111 B. Marcello - Boscovich</td>\n",
       "      <td>111</td>\n",
       "      <td>Via Benedetto Marcello</td>\n",
       "      <td>Marciapiede</td>\n",
       "      <td>36</td>\n",
       "      <td>POINT (1516248.323389268 5036336.48115693)</td>\n",
       "    </tr>\n",
       "    <tr>\n",
       "      <th>113</th>\n",
       "      <td>2013</td>\n",
       "      <td>115 Caiazzo</td>\n",
       "      <td>115</td>\n",
       "      <td>P.zza Caiazzo</td>\n",
       "      <td>Marciapiede</td>\n",
       "      <td>36</td>\n",
       "      <td>POINT (1516372.610577578 5036899.874652725)</td>\n",
       "    </tr>\n",
       "    <tr>\n",
       "      <th>115</th>\n",
       "      <td>2013</td>\n",
       "      <td>117 Bacone - Monteverdi</td>\n",
       "      <td>117</td>\n",
       "      <td>Via Monteverdi, angolo Bacone</td>\n",
       "      <td>Marciapiede</td>\n",
       "      <td>36</td>\n",
       "      <td>POINT (1516823.976258267 5036469.798320907)</td>\n",
       "    </tr>\n",
       "    <tr>\n",
       "      <th>119</th>\n",
       "      <td>2013</td>\n",
       "      <td>121 Galvani - Copernico</td>\n",
       "      <td>121</td>\n",
       "      <td>Via Gioia, angolo Galvani</td>\n",
       "      <td>Marciapiede</td>\n",
       "      <td>27</td>\n",
       "      <td>POINT (1515497.594797405 5037057.317684159)</td>\n",
       "    </tr>\n",
       "  </tbody>\n",
       "</table>\n",
       "</div>"
      ],
      "text/plain": [
       "     ANNO                           BIKE_SH   ID  \\\n",
       "107  2013  109 Tunisia - Lecco - Bellintani  109   \n",
       "109  2013       111 B. Marcello - Boscovich  111   \n",
       "113  2013                       115 Caiazzo  115   \n",
       "115  2013           117 Bacone - Monteverdi  117   \n",
       "119  2013           121 Galvani - Copernico  121   \n",
       "\n",
       "                         INDIRIZZO      LOCALIZ  STALLI  \\\n",
       "107      V.le Tunisia - Bellintani  Marciapiede      30   \n",
       "109         Via Benedetto Marcello  Marciapiede      36   \n",
       "113                  P.zza Caiazzo  Marciapiede      36   \n",
       "115  Via Monteverdi, angolo Bacone  Marciapiede      36   \n",
       "119      Via Gioia, angolo Galvani  Marciapiede      27   \n",
       "\n",
       "                                        geometry  \n",
       "107  POINT (1516045.226974665 5036023.154826893)  \n",
       "109   POINT (1516248.323389268 5036336.48115693)  \n",
       "113  POINT (1516372.610577578 5036899.874652725)  \n",
       "115  POINT (1516823.976258267 5036469.798320907)  \n",
       "119  POINT (1515497.594797405 5037057.317684159)  "
      ]
     },
     "execution_count": 174,
     "metadata": {},
     "output_type": "execute_result"
    }
   ],
   "source": [
    "# slice the dataset selecting only the stations from 2013\n",
    "stations_2013 = bike_mi[bike_mi.ANNO == 2013]\n",
    "stations_2013.head()"
   ]
  },
  {
   "cell_type": "markdown",
   "metadata": {},
   "source": [
    "## Spatial operations\n",
    "\n",
    "Now that we can harness the power of Geopandas, let's use it in conjuction with Shapely's capabalities. For instance, let's see how many to BikeMi stations are around piazza Duomo."
   ]
  },
  {
   "cell_type": "code",
   "execution_count": 182,
   "metadata": {
    "collapsed": false,
    "scrolled": true
   },
   "outputs": [
    {
     "data": {
      "text/html": [
       "<div>\n",
       "<table border=\"1\" class=\"dataframe\">\n",
       "  <thead>\n",
       "    <tr style=\"text-align: right;\">\n",
       "      <th></th>\n",
       "      <th>geometry</th>\n",
       "      <th>name</th>\n",
       "    </tr>\n",
       "  </thead>\n",
       "  <tbody>\n",
       "    <tr>\n",
       "      <th>0</th>\n",
       "      <td>POLYGON ((9.196068 45.464041, 9.19604392363336...</td>\n",
       "      <td>Duomo</td>\n",
       "    </tr>\n",
       "    <tr>\n",
       "      <th>1</th>\n",
       "      <td>POLYGON ((9.18294 45.45238, 9.182915923633361 ...</td>\n",
       "      <td>Navigli</td>\n",
       "    </tr>\n",
       "    <tr>\n",
       "      <th>2</th>\n",
       "      <td>POLYGON ((9.226946000000002 45.447798, 9.22692...</td>\n",
       "      <td>OpenDot</td>\n",
       "    </tr>\n",
       "  </tbody>\n",
       "</table>\n",
       "</div>"
      ],
      "text/plain": [
       "                                            geometry     name\n",
       "0  POLYGON ((9.196068 45.464041, 9.19604392363336...    Duomo\n",
       "1  POLYGON ((9.18294 45.45238, 9.182915923633361 ...  Navigli\n",
       "2  POLYGON ((9.226946000000002 45.447798, 9.22692...  OpenDot"
      ]
     },
     "execution_count": 182,
     "metadata": {},
     "output_type": "execute_result"
    }
   ],
   "source": [
    "# read-in the buffer shapefile\n",
    "buffers = gpd.read_file(filename=\"points_buffer.shp\")\n",
    "# check there's a field with the location's names\n",
    "buffers.head()"
   ]
  },
  {
   "cell_type": "code",
   "execution_count": 184,
   "metadata": {
    "collapsed": false
   },
   "outputs": [
    {
     "data": {
      "image/png": "[encoded data removed]",
      "text/plain": [
       "<matplotlib.figure.Figure at 0x12291dd90>"
      ]
     },
     "metadata": {},
     "output_type": "display_data"
    }
   ],
   "source": [
    "buffers.plot()\n",
    "plt.show()"
   ]
  },
  {
   "cell_type": "markdown",
   "metadata": {},
   "source": [
    "Remember the BikeMi CRS? Before doing anything, we need to make sure both our datasets \"live\" in the same space. or otherwise any geometrical operations will result in an empty set!\n",
    "\n",
    "Using Fiona, let's reproject buffers to a flat plane, using as a Italy-centred CRS:  WGS 84 / UTM zone 32N\n",
    "For reference see [here](http://spatialreference.org/ref/epsg/wgs-84-utm-zone-32n/)"
   ]
  },
  {
   "cell_type": "code",
   "execution_count": 185,
   "metadata": {
    "collapsed": false
   },
   "outputs": [],
   "source": [
    "# Copy the layers\n",
    "buffers_proj = buffers.copy()\n",
    "# since we built the buffers manually, we'll need to define an inital projection\n",
    "buffers_proj.crs = {'init' :'epsg:4326'}\n",
    "# and now we can re-project the data to a new CRS\n",
    "buffers_proj = buffers_proj.to_crs(prj)"
   ]
  },
  {
   "cell_type": "code",
   "execution_count": 186,
   "metadata": {
    "collapsed": false
   },
   "outputs": [
    {
     "data": {
      "text/html": [
       "<div>\n",
       "<table border=\"1\" class=\"dataframe\">\n",
       "  <thead>\n",
       "    <tr style=\"text-align: right;\">\n",
       "      <th></th>\n",
       "      <th>geometry</th>\n",
       "      <th>name</th>\n",
       "    </tr>\n",
       "  </thead>\n",
       "  <tbody>\n",
       "    <tr>\n",
       "      <th>0</th>\n",
       "      <td>POLYGON ((1515328.626503173 5034614.660862911,...</td>\n",
       "      <td>Duomo</td>\n",
       "    </tr>\n",
       "    <tr>\n",
       "      <th>1</th>\n",
       "      <td>POLYGON ((1514305.22576083 5033316.705451729, ...</td>\n",
       "      <td>Navigli</td>\n",
       "    </tr>\n",
       "    <tr>\n",
       "      <th>2</th>\n",
       "      <td>POLYGON ((1517747.767564044 5032816.418530427,...</td>\n",
       "      <td>OpenDot</td>\n",
       "    </tr>\n",
       "  </tbody>\n",
       "</table>\n",
       "</div>"
      ],
      "text/plain": [
       "                                            geometry     name\n",
       "0  POLYGON ((1515328.626503173 5034614.660862911,...    Duomo\n",
       "1  POLYGON ((1514305.22576083 5033316.705451729, ...  Navigli\n",
       "2  POLYGON ((1517747.767564044 5032816.418530427,...  OpenDot"
      ]
     },
     "execution_count": 186,
     "metadata": {},
     "output_type": "execute_result"
    }
   ],
   "source": [
    "buffers_proj.head()\n",
    "# buffers_proj.crs"
   ]
  },
  {
   "cell_type": "code",
   "execution_count": 191,
   "metadata": {
    "collapsed": false
   },
   "outputs": [
    {
     "name": "stdout",
     "output_type": "stream",
     "text": [
      "Do the two datasets live in the same CRS? True\n",
      "{u'lon_0': 9, u'k': 0.9996, u'ellps': u'intl', u'y_0': 0, u'no_defs': True, u'proj': u'tmerc', u'x_0': 1500000, u'units': u'm', u'lat_0': 0} {u'lon_0': 9, u'k': 0.9996, u'ellps': u'intl', u'y_0': 0, u'no_defs': True, u'proj': u'tmerc', u'x_0': 1500000, u'units': u'm', u'lat_0': 0}\n"
     ]
    }
   ],
   "source": [
    "# check for CRS equality\n",
    "print \"Do the two datasets live in the same CRS? {}\".format(buffers_proj.crs == bike_mi.crs)\n",
    "\n",
    "# newest_stations.crs\n",
    "print \"{} {}\".format(buffers_proj.crs, bike_mi.crs)"
   ]
  },
  {
   "cell_type": "code",
   "execution_count": 274,
   "metadata": {
    "collapsed": false
   },
   "outputs": [
    {
     "data": {
      "text/html": [
       "<div>\n",
       "<table border=\"1\" class=\"dataframe\">\n",
       "  <thead>\n",
       "    <tr style=\"text-align: right;\">\n",
       "      <th></th>\n",
       "      <th>geometry</th>\n",
       "      <th>name</th>\n",
       "    </tr>\n",
       "  </thead>\n",
       "  <tbody>\n",
       "    <tr>\n",
       "      <th>2</th>\n",
       "      <td>POLYGON ((1517747.767564044 5032816.418530427,...</td>\n",
       "      <td>OpenDot</td>\n",
       "    </tr>\n",
       "  </tbody>\n",
       "</table>\n",
       "</div>"
      ],
      "text/plain": [
       "                                            geometry     name\n",
       "2  POLYGON ((1517747.767564044 5032816.418530427,...  OpenDot"
      ]
     },
     "execution_count": 274,
     "metadata": {},
     "output_type": "execute_result"
    }
   ],
   "source": [
    "# subset the buffer dataset to get only Duomo's\n",
    "buffer_opendot = buffers_proj[buffers_proj.name==\"OpenDot\"]\n",
    "buffer_opendot"
   ]
  },
  {
   "cell_type": "code",
   "execution_count": 242,
   "metadata": {
    "collapsed": false
   },
   "outputs": [
    {
     "data": {
      "text/plain": [
       "shapely.geometry.linestring.LineString"
      ]
     },
     "execution_count": 242,
     "metadata": {},
     "output_type": "execute_result"
    }
   ],
   "source": [
    "type(opendot_2_domm)"
   ]
  },
  {
   "cell_type": "code",
   "execution_count": 264,
   "metadata": {
    "collapsed": false
   },
   "outputs": [
    {
     "name": "stdout",
     "output_type": "stream",
     "text": [
      "geometry\n",
      "geometry\n",
      "geometry\n",
      "geometry\n",
      "geometry\n",
      "geometry\n",
      "geometry\n",
      "geometry\n",
      "geometry\n",
      "geometry\n",
      "geometry\n",
      "geometry\n",
      "geometry\n",
      "geometry\n",
      "geometry\n",
      "geometry\n",
      "geometry\n",
      "geometry\n",
      "geometry\n",
      "geometry\n",
      "geometry\n",
      "geometry\n",
      "geometry\n",
      "geometry\n",
      "geometry\n",
      "geometry\n",
      "geometry\n",
      "geometry\n",
      "geometry\n",
      "geometry\n",
      "geometry\n",
      "geometry\n",
      "geometry\n",
      "geometry\n",
      "geometry\n",
      "geometry\n",
      "geometry\n",
      "geometry\n",
      "geometry\n",
      "geometry\n",
      "geometry\n",
      "geometry\n",
      "geometry\n",
      "geometry\n",
      "geometry\n",
      "geometry\n",
      "geometry\n",
      "geometry\n",
      "geometry\n",
      "geometry\n",
      "geometry\n",
      "geometry\n",
      "geometry\n",
      "geometry\n",
      "geometry\n",
      "geometry\n",
      "geometry\n",
      "geometry\n",
      "geometry\n",
      "geometry\n",
      "geometry\n",
      "geometry\n",
      "geometry\n",
      "geometry\n",
      "geometry\n",
      "geometry\n",
      "geometry\n",
      "geometry\n",
      "geometry\n",
      "geometry\n",
      "geometry\n",
      "geometry\n",
      "geometry\n",
      "geometry\n",
      "geometry\n",
      "geometry\n",
      "geometry\n",
      "geometry\n",
      "geometry\n",
      "geometry\n",
      "geometry\n",
      "geometry\n",
      "geometry\n",
      "geometry\n",
      "geometry\n",
      "geometry\n",
      "geometry\n",
      "geometry\n",
      "geometry\n",
      "geometry\n",
      "geometry\n",
      "geometry\n",
      "geometry\n",
      "geometry\n",
      "geometry\n",
      "geometry\n",
      "geometry\n",
      "geometry\n",
      "geometry\n",
      "geometry\n",
      "geometry\n",
      "geometry\n",
      "geometry\n",
      "geometry\n",
      "geometry\n",
      "geometry\n",
      "geometry\n",
      "geometry\n",
      "geometry\n",
      "geometry\n",
      "geometry\n",
      "geometry\n",
      "geometry\n",
      "geometry\n",
      "geometry\n",
      "geometry\n",
      "geometry\n",
      "geometry\n",
      "geometry\n",
      "geometry\n",
      "geometry\n",
      "geometry\n",
      "geometry\n",
      "geometry\n",
      "geometry\n",
      "geometry\n",
      "geometry\n",
      "geometry\n",
      "geometry\n",
      "geometry\n",
      "geometry\n",
      "geometry\n",
      "geometry\n",
      "geometry\n",
      "geometry\n",
      "geometry\n",
      "geometry\n",
      "geometry\n",
      "geometry\n",
      "geometry\n",
      "geometry\n",
      "geometry\n",
      "geometry\n",
      "geometry\n",
      "geometry\n",
      "geometry\n",
      "geometry\n",
      "geometry\n",
      "geometry\n",
      "geometry\n",
      "geometry\n",
      "geometry\n",
      "geometry\n",
      "geometry\n",
      "geometry\n",
      "geometry\n",
      "geometry\n",
      "geometry\n",
      "geometry\n",
      "geometry\n",
      "geometry\n",
      "geometry\n",
      "geometry\n",
      "geometry\n",
      "geometry\n",
      "geometry\n",
      "geometry\n",
      "geometry\n",
      "geometry\n",
      "geometry\n",
      "geometry\n",
      "geometry\n",
      "geometry\n",
      "geometry\n",
      "geometry\n",
      "geometry\n",
      "geometry\n",
      "geometry\n",
      "geometry\n",
      "geometry\n",
      "geometry\n",
      "geometry\n",
      "geometry\n",
      "geometry\n",
      "geometry\n",
      "geometry\n",
      "geometry\n",
      "geometry\n"
     ]
    }
   ],
   "source": [
    "# how many bike stations are within the buffer? \n",
    "for i,v in bike_mi.iterrows():\n",
    "    # nasty trick to get the points\n",
    "    #  see issue https://github.com/geopandas/geopandas/issues/136\n",
    "    print    bike_mi._geometry_column_name\n",
    "#     [p for p in v[bike_mi._geometry_column_name]]\n",
    "# .geometry.within(buffer_domm)\n",
    "\n",
    "\n",
    "#     df = gpd.GeoDataFrame( a, ignore_index=True) \n",
    "#     df.within(buffer_domm)\n",
    "# print bike_mi\n",
    "# bike_near_duomo = \n",
    "# bike_near_duomo.plot()\n",
    "# plt.show()\n",
    "# bike_near_duomo"
   ]
  },
  {
   "cell_type": "code",
   "execution_count": 144,
   "metadata": {
    "collapsed": false
   },
   "outputs": [],
   "source": [
    "buffers_proj.to_file(driver=\"ESRI Shapefile\" ,filename=\"../buffer_proj.shp\")\n",
    "stations_2013.to_file(driver=\"ESRI Shapefile\" ,filename=\"../stations_2013.shp\")"
   ]
  },
  {
   "cell_type": "code",
   "execution_count": 292,
   "metadata": {
    "collapsed": false
   },
   "outputs": [
    {
     "data": {
      "text/html": [
       "<div>\n",
       "<table border=\"1\" class=\"dataframe\">\n",
       "  <thead>\n",
       "    <tr style=\"text-align: right;\">\n",
       "      <th></th>\n",
       "      <th>AreaHA</th>\n",
       "      <th>AreaMQ</th>\n",
       "      <th>FID_1</th>\n",
       "      <th>FID_1_1</th>\n",
       "      <th>ID_NIL</th>\n",
       "      <th>NIL</th>\n",
       "      <th>geometry</th>\n",
       "    </tr>\n",
       "  </thead>\n",
       "  <tbody>\n",
       "    <tr>\n",
       "      <th>0</th>\n",
       "      <td>70.84658</td>\n",
       "      <td>7.084658e+05</td>\n",
       "      <td>0</td>\n",
       "      <td>0</td>\n",
       "      <td>74</td>\n",
       "      <td>SACCO</td>\n",
       "      <td>POLYGON ((1509552.719044713 5040303.760969574,...</td>\n",
       "    </tr>\n",
       "    <tr>\n",
       "      <th>1</th>\n",
       "      <td>92.67346</td>\n",
       "      <td>9.267346e+05</td>\n",
       "      <td>1</td>\n",
       "      <td>1</td>\n",
       "      <td>82</td>\n",
       "      <td>COMASINA</td>\n",
       "      <td>POLYGON ((1513215.688678416 5041192.970880653,...</td>\n",
       "    </tr>\n",
       "    <tr>\n",
       "      <th>2</th>\n",
       "      <td>56.00979</td>\n",
       "      <td>5.600979e+05</td>\n",
       "      <td>2</td>\n",
       "      <td>2</td>\n",
       "      <td>75</td>\n",
       "      <td>STEPHENSON</td>\n",
       "      <td>POLYGON ((1510129.918986993 5039633.206036629,...</td>\n",
       "    </tr>\n",
       "    <tr>\n",
       "      <th>3</th>\n",
       "      <td>102.44374</td>\n",
       "      <td>1.024437e+06</td>\n",
       "      <td>3</td>\n",
       "      <td>3</td>\n",
       "      <td>66</td>\n",
       "      <td>QT 8</td>\n",
       "      <td>POLYGON ((1511256.433874341 5036831.711316778,...</td>\n",
       "    </tr>\n",
       "    <tr>\n",
       "      <th>4</th>\n",
       "      <td>140.25196</td>\n",
       "      <td>1.402520e+06</td>\n",
       "      <td>4</td>\n",
       "      <td>4</td>\n",
       "      <td>29</td>\n",
       "      <td>ORTOMERCATO</td>\n",
       "      <td>POLYGON ((1518588.94814109 5033641.931635757, ...</td>\n",
       "    </tr>\n",
       "  </tbody>\n",
       "</table>\n",
       "</div>"
      ],
      "text/plain": [
       "      AreaHA        AreaMQ  FID_1  FID_1_1  ID_NIL          NIL  \\\n",
       "0   70.84658  7.084658e+05      0        0      74        SACCO   \n",
       "1   92.67346  9.267346e+05      1        1      82     COMASINA   \n",
       "2   56.00979  5.600979e+05      2        2      75   STEPHENSON   \n",
       "3  102.44374  1.024437e+06      3        3      66         QT 8   \n",
       "4  140.25196  1.402520e+06      4        4      29  ORTOMERCATO   \n",
       "\n",
       "                                            geometry  \n",
       "0  POLYGON ((1509552.719044713 5040303.760969574,...  \n",
       "1  POLYGON ((1513215.688678416 5041192.970880653,...  \n",
       "2  POLYGON ((1510129.918986993 5039633.206036629,...  \n",
       "3  POLYGON ((1511256.433874341 5036831.711316778,...  \n",
       "4  POLYGON ((1518588.94814109 5033641.931635757, ...  "
      ]
     },
     "execution_count": 292,
     "metadata": {},
     "output_type": "execute_result"
    }
   ],
   "source": [
    "nil = gpd.read_file(filename=\"../data/NIL/NILZone.shp\")\n",
    "nil.head()"
   ]
  },
  {
   "cell_type": "code",
   "execution_count": 294,
   "metadata": {
    "collapsed": false
   },
   "outputs": [
    {
     "data": {
      "image/png": "[encoded data removed]",
      "text/plain": [
       "<matplotlib.figure.Figure at 0x122988750>"
      ]
     },
     "metadata": {},
     "output_type": "display_data"
    },
    {
     "data": {
      "image/png": "[encoded data removed]",
      "text/plain": [
       "<matplotlib.figure.Figure at 0x123031a50>"
      ]
     },
     "metadata": {},
     "output_type": "display_data"
    }
   ],
   "source": [
    "nil.plot()\n",
    "plt.show()"
   ]
  },
  {
   "cell_type": "markdown",
   "metadata": {},
   "source": [
    "If Shapely is used to perform operations on the geometries, Geopandas has really convenient methods to perform other \"classic\" GIS functions, such as **Spatial Joins** (in addition to regular joins). \n",
    "\n",
    "A spatial join is simply a way to merge two datasets on their spatial relationship, rather than on a common property (such as in a SQL join). The output is a new dataset (similary to, for instance a count-in-polygon/select-by-location method of some GIS softwares), with the addition of merging the characteristics of the two original datasets. \n",
    "\n",
    "There are three possible types of Spatial Joins, according to the relation between the features:\n",
    "- intersects\n",
    "- within\n",
    "- contains\n",
    "\n",
    "Let's use our previously calculated buffers to select only stations nearby Duomo. We have to:\n",
    "- Join the BikeMi stations with the buffers, thereby obtaining a new dataset with an additional field \"name\".\n",
    "- Use such field to subset the newly created dataset and select only the appropriate stations"
   ]
  },
  {
   "cell_type": "code",
   "execution_count": 304,
   "metadata": {
    "collapsed": false
   },
   "outputs": [
    {
     "data": {
      "text/html": [
       "<div>\n",
       "<table border=\"1\" class=\"dataframe\">\n",
       "  <thead>\n",
       "    <tr style=\"text-align: right;\">\n",
       "      <th></th>\n",
       "      <th>AreaHA</th>\n",
       "      <th>AreaMQ</th>\n",
       "      <th>FID_1</th>\n",
       "      <th>FID_1_1</th>\n",
       "      <th>ID_NIL</th>\n",
       "      <th>NIL</th>\n",
       "      <th>geometry</th>\n",
       "      <th>index_right</th>\n",
       "      <th>ANNO</th>\n",
       "      <th>BIKE_SH</th>\n",
       "      <th>ID</th>\n",
       "      <th>INDIRIZZO</th>\n",
       "      <th>LOCALIZ</th>\n",
       "      <th>STALLI</th>\n",
       "    </tr>\n",
       "  </thead>\n",
       "  <tbody>\n",
       "    <tr>\n",
       "      <th>27</th>\n",
       "      <td>220.74874</td>\n",
       "      <td>2.207487e+06</td>\n",
       "      <td>27</td>\n",
       "      <td>27</td>\n",
       "      <td>22</td>\n",
       "      <td>CITTA' STUDI</td>\n",
       "      <td>POLYGON ((1518351.398164845 5035093.556490595,...</td>\n",
       "      <td>185</td>\n",
       "      <td>2013</td>\n",
       "      <td>214 Piazzale Susa</td>\n",
       "      <td>214</td>\n",
       "      <td>Isola spartitraffico Sidoli - Romagna</td>\n",
       "      <td>Marciapiede</td>\n",
       "      <td>30</td>\n",
       "    </tr>\n",
       "    <tr>\n",
       "      <th>27</th>\n",
       "      <td>220.74874</td>\n",
       "      <td>2.207487e+06</td>\n",
       "      <td>27</td>\n",
       "      <td>27</td>\n",
       "      <td>22</td>\n",
       "      <td>CITTA' STUDI</td>\n",
       "      <td>POLYGON ((1518351.398164845 5035093.556490595,...</td>\n",
       "      <td>186</td>\n",
       "      <td>2013</td>\n",
       "      <td>215 Politecnico 1</td>\n",
       "      <td>215</td>\n",
       "      <td>piazzale Leonardo da Vinci lato nord</td>\n",
       "      <td>Marciapiede</td>\n",
       "      <td>36</td>\n",
       "    </tr>\n",
       "    <tr>\n",
       "      <th>27</th>\n",
       "      <td>220.74874</td>\n",
       "      <td>2.207487e+06</td>\n",
       "      <td>27</td>\n",
       "      <td>27</td>\n",
       "      <td>22</td>\n",
       "      <td>CITTA' STUDI</td>\n",
       "      <td>POLYGON ((1518351.398164845 5035093.556490595,...</td>\n",
       "      <td>187</td>\n",
       "      <td>2013</td>\n",
       "      <td>216 Romagna - Pascoli</td>\n",
       "      <td>216</td>\n",
       "      <td>Via Pascoli 53</td>\n",
       "      <td>Carreggiata</td>\n",
       "      <td>36</td>\n",
       "    </tr>\n",
       "    <tr>\n",
       "      <th>32</th>\n",
       "      <td>154.80207</td>\n",
       "      <td>1.548021e+06</td>\n",
       "      <td>32</td>\n",
       "      <td>32</td>\n",
       "      <td>4</td>\n",
       "      <td>GUASTALLA</td>\n",
       "      <td>POLYGON ((1516175.103382475 5035420.086457941,...</td>\n",
       "      <td>12</td>\n",
       "      <td>2008</td>\n",
       "      <td>013 Senato</td>\n",
       "      <td>13</td>\n",
       "      <td>Via Senato</td>\n",
       "      <td>Marciapiede</td>\n",
       "      <td>18</td>\n",
       "    </tr>\n",
       "    <tr>\n",
       "      <th>32</th>\n",
       "      <td>154.80207</td>\n",
       "      <td>1.548021e+06</td>\n",
       "      <td>32</td>\n",
       "      <td>32</td>\n",
       "      <td>4</td>\n",
       "      <td>GUASTALLA</td>\n",
       "      <td>POLYGON ((1516175.103382475 5035420.086457941,...</td>\n",
       "      <td>71</td>\n",
       "      <td>2009</td>\n",
       "      <td>073 Majno - Baretti</td>\n",
       "      <td>73</td>\n",
       "      <td>Via Baretti</td>\n",
       "      <td>Carreggiata</td>\n",
       "      <td>24</td>\n",
       "    </tr>\n",
       "  </tbody>\n",
       "</table>\n",
       "</div>"
      ],
      "text/plain": [
       "       AreaHA        AreaMQ  FID_1  FID_1_1  ID_NIL           NIL  \\\n",
       "27  220.74874  2.207487e+06     27       27      22  CITTA' STUDI   \n",
       "27  220.74874  2.207487e+06     27       27      22  CITTA' STUDI   \n",
       "27  220.74874  2.207487e+06     27       27      22  CITTA' STUDI   \n",
       "32  154.80207  1.548021e+06     32       32       4     GUASTALLA   \n",
       "32  154.80207  1.548021e+06     32       32       4     GUASTALLA   \n",
       "\n",
       "                                             geometry  index_right  ANNO  \\\n",
       "27  POLYGON ((1518351.398164845 5035093.556490595,...          185  2013   \n",
       "27  POLYGON ((1518351.398164845 5035093.556490595,...          186  2013   \n",
       "27  POLYGON ((1518351.398164845 5035093.556490595,...          187  2013   \n",
       "32  POLYGON ((1516175.103382475 5035420.086457941,...           12  2008   \n",
       "32  POLYGON ((1516175.103382475 5035420.086457941,...           71  2009   \n",
       "\n",
       "                  BIKE_SH   ID                              INDIRIZZO  \\\n",
       "27      214 Piazzale Susa  214  Isola spartitraffico Sidoli - Romagna   \n",
       "27      215 Politecnico 1  215   piazzale Leonardo da Vinci lato nord   \n",
       "27  216 Romagna - Pascoli  216                         Via Pascoli 53   \n",
       "32             013 Senato   13                             Via Senato   \n",
       "32    073 Majno - Baretti   73                            Via Baretti   \n",
       "\n",
       "        LOCALIZ  STALLI  \n",
       "27  Marciapiede      30  \n",
       "27  Marciapiede      36  \n",
       "27  Carreggiata      36  \n",
       "32  Marciapiede      18  \n",
       "32  Carreggiata      24  "
      ]
     },
     "execution_count": 304,
     "metadata": {},
     "output_type": "execute_result"
    }
   ],
   "source": [
    "# spatial join\n",
    "join = gpd.sjoin(nil, bike_mi, how=\"inner\", op=\"contains\")\n",
    "\n",
    "# Let's check the result\n",
    "join.head()"
   ]
  },
  {
   "cell_type": "code",
   "execution_count": 315,
   "metadata": {
    "collapsed": false
   },
   "outputs": [
    {
     "data": {
      "image/png": "[encoded data removed]",
      "text/plain": [
       "<matplotlib.figure.Figure at 0x124a49850>"
      ]
     },
     "metadata": {},
     "output_type": "display_data"
    }
   ],
   "source": [
    "join.plot(column=\"STALLI\", cmap=\"YlGn\")\n",
    "plt.show()"
   ]
  },
  {
   "cell_type": "code",
   "execution_count": 316,
   "metadata": {
    "collapsed": false
   },
   "outputs": [
    {
     "data": {
      "image/png": "[encoded data removed]",
      "text/plain": [
       "<matplotlib.figure.Figure at 0x12417abd0>"
      ]
     },
     "metadata": {},
     "output_type": "display_data"
    }
   ],
   "source": [
    "\n",
    "join['stations_by_area'] = join['STALLI'] / join['AreaMQ']\n",
    "\n",
    "join.plot(column=\"stations_by_area\", scheme=\"Fisher_Jenks\", k=9, cmap=\"RdYlBu\", linewidth=0);\n",
    "\n",
    "# Use tight layour\n",
    "plt.tight_layout()\n",
    "plt.show()"
   ]
  },
  {
   "cell_type": "markdown",
   "metadata": {},
   "source": [
    "### Geometry operations"
   ]
  },
  {
   "cell_type": "code",
   "execution_count": null,
   "metadata": {
    "collapsed": true
   },
   "outputs": [],
   "source": [
    "# Check if p1 is within the polygon using the within function\n",
    "In [4]: p1.within(poly)\n",
    "# Does polygon contain p1?\n",
    "In [8]: poly.contains(p1)"
   ]
  },
  {
   "cell_type": "markdown",
   "metadata": {},
   "source": [
    "# Spatial Dataframes with GeoPandas\n",
    "\n",
    "![](../imgs/motivational/png)"
   ]
  },
  {
   "cell_type": "code",
   "execution_count": 64,
   "metadata": {
    "collapsed": false
   },
   "outputs": [],
   "source": [
    "d = {'name': ['Duomo','OpenDot'] ,'lat':[41.88,39.101],'lon':[-80.63,-94.584]}"
   ]
  },
  {
   "cell_type": "code",
   "execution_count": 65,
   "metadata": {
    "collapsed": false
   },
   "outputs": [
    {
     "data": {
      "text/html": [
       "<div>\n",
       "<table border=\"1\" class=\"dataframe\">\n",
       "  <thead>\n",
       "    <tr style=\"text-align: right;\">\n",
       "      <th></th>\n",
       "      <th>name</th>\n",
       "      <th>lat</th>\n",
       "      <th>lon</th>\n",
       "    </tr>\n",
       "  </thead>\n",
       "  <tbody>\n",
       "    <tr>\n",
       "      <th>0</th>\n",
       "      <td>Duomo</td>\n",
       "      <td>41.880</td>\n",
       "      <td>-80.630</td>\n",
       "    </tr>\n",
       "    <tr>\n",
       "      <th>1</th>\n",
       "      <td>OpenDot</td>\n",
       "      <td>39.101</td>\n",
       "      <td>-94.584</td>\n",
       "    </tr>\n",
       "  </tbody>\n",
       "</table>\n",
       "</div>"
      ],
      "text/plain": [
       "      name     lat     lon\n",
       "0    Duomo  41.880 -80.630\n",
       "1  OpenDot  39.101 -94.584"
      ]
     },
     "execution_count": 65,
     "metadata": {},
     "output_type": "execute_result"
    }
   ],
   "source": [
    "df = pd.DataFrame(data=d, columns=['name', 'lat', 'lon'])\n",
    "df"
   ]
  },
  {
   "cell_type": "code",
   "execution_count": 66,
   "metadata": {
    "collapsed": false
   },
   "outputs": [],
   "source": [
    "csv_name = os.getcwd() + 'data.csv'\n",
    "df.to_csv(csv_name)"
   ]
  },
  {
   "cell_type": "code",
   "execution_count": 74,
   "metadata": {
    "collapsed": false
   },
   "outputs": [],
   "source": [
    "schema = {'geometry': 'Point', 'properties': {'name': 'str'}}\n",
    "\n",
    "with collection(\"some.shp\", \"w\", \"ESRI Shapefile\", schema) as output:\n",
    "    with open(csv_name, 'rb') as f:\n",
    "        reader = csv.DictReader(f)\n",
    "        for row in reader:\n",
    "            point = Point(float(row['lon']), float(row['lat']))\n",
    "            output.write({\n",
    "                'properties': {\n",
    "                    'name': row['name']\n",
    "                },\n",
    "                'geometry': mapping(point)\n",
    "            })"
   ]
  },
  {
   "cell_type": "code",
   "execution_count": 75,
   "metadata": {
    "collapsed": false
   },
   "outputs": [
    {
     "data": {
      "text/plain": [
       "['.ipynb_checkpoints',\n",
       " '1-data-handling.ipynb',\n",
       " 'grid.ipynb',\n",
       " 'ny_boros.geojson',\n",
       " 'raster-exampledata.csv',\n",
       " 'some.cpg',\n",
       " 'some.dbf',\n",
       " 'some.shp',\n",
       " 'some.shx',\n",
       " 'some_buffer.cpg',\n",
       " 'some_buffer.dbf',\n",
       " 'some_buffer.shp',\n",
       " 'some_buffer.shx',\n",
       " 'some_union.cpg',\n",
       " 'some_union.dbf',\n",
       " 'some_union.shp',\n",
       " 'some_union.shx']"
      ]
     },
     "execution_count": 75,
     "metadata": {},
     "output_type": "execute_result"
    }
   ],
   "source": [
    "# check we produced something\n",
    "os.listdir(os.getcwd())"
   ]
  },
  {
   "cell_type": "markdown",
   "metadata": {},
   "source": [
    "## Classic GIS operations"
   ]
  },
  {
   "cell_type": "code",
   "execution_count": 76,
   "metadata": {
    "collapsed": false
   },
   "outputs": [
    {
     "name": "stdout",
     "output_type": "stream",
     "text": [
      "POINT (-80.63 41.88)\n",
      "POINT (-94.584 39.101)\n"
     ]
    }
   ],
   "source": [
    "with collection(\"some.shp\", \"r\") as input:\n",
    "    for point in input:\n",
    "        print shape(point['geometry'])"
   ]
  },
  {
   "cell_type": "code",
   "execution_count": 77,
   "metadata": {
    "collapsed": false
   },
   "outputs": [],
   "source": [
    "with collection(\"some.shp\", \"r\") as input:\n",
    "    schema = {'geometry': 'Polygon', 'properties': {'name': 'str'}}\n",
    "    with collection( \"some_buffer.shp\", \"w\", \"ESRI Shapefile\", schema) as output:\n",
    "        for point in input:\n",
    "            output.write({\n",
    "                'properties': {\n",
    "                    'name': point['properties']['name']\n",
    "                },\n",
    "                'geometry': mapping(shape(point['geometry']).buffer(5.0))\n",
    "            })"
   ]
  },
  {
   "cell_type": "code",
   "execution_count": 78,
   "metadata": {
    "collapsed": false
   },
   "outputs": [],
   "source": [
    "buffer = gpd.read_file(filename=\"some_buffer.shp\")\n"
   ]
  },
  {
   "cell_type": "code",
   "execution_count": 79,
   "metadata": {
    "collapsed": false
   },
   "outputs": [
    {
     "data": {
      "image/png": "[encoded data removed]",
      "text/plain": [
       "<matplotlib.figure.Figure at 0x11f3553d0>"
      ]
     },
     "metadata": {},
     "output_type": "display_data"
    }
   ],
   "source": [
    "\n",
    "world = gpd.read_file(gpd.datasets.get_path('naturalearth_lowres'))\n",
    "buffer.crs = fiona.crs.from_epsg(4326)\n",
    "buffer.plot()\n",
    "plt.show()"
   ]
  },
  {
   "cell_type": "code",
   "execution_count": 93,
   "metadata": {
    "collapsed": false
   },
   "outputs": [
    {
     "ename": "AttributeError",
     "evalue": "'XAxis' object has no attribute 'get_tick_space'",
     "output_type": "error",
     "traceback": [
      "\u001b[0;31m---------------------------------------------------------------------------\u001b[0m",
      "\u001b[0;31mAttributeError\u001b[0m                            Traceback (most recent call last)",
      "\u001b[0;32m<ipython-input-93-9dd735304db4>\u001b[0m in \u001b[0;36m<module>\u001b[0;34m()\u001b[0m\n\u001b[1;32m     22\u001b[0m \u001b[0;34m\u001b[0m\u001b[0m\n\u001b[1;32m     23\u001b[0m \u001b[0ma\u001b[0m \u001b[0;34m=\u001b[0m\u001b[0mgpd\u001b[0m\u001b[0;34m.\u001b[0m\u001b[0mread_file\u001b[0m\u001b[0;34m(\u001b[0m\u001b[0;34m\"some_union.shp\"\u001b[0m\u001b[0;34m)\u001b[0m\u001b[0;34m\u001b[0m\u001b[0m\n\u001b[0;32m---> 24\u001b[0;31m \u001b[0ma\u001b[0m\u001b[0;34m.\u001b[0m\u001b[0mplot\u001b[0m\u001b[0;34m(\u001b[0m\u001b[0;34m)\u001b[0m\u001b[0;34m;\u001b[0m\u001b[0;34m\u001b[0m\u001b[0m\n\u001b[0m",
      "\u001b[0;32m/Users/mferretti/anaconda/envs/cityAI-raster/lib/python2.7/site-packages/geopandas/geodataframe.pyc\u001b[0m in \u001b[0;36mplot\u001b[0;34m(self, *args, **kwargs)\u001b[0m\n\u001b[1;32m    445\u001b[0m     \u001b[0;32mdef\u001b[0m \u001b[0mplot\u001b[0m\u001b[0;34m(\u001b[0m\u001b[0mself\u001b[0m\u001b[0;34m,\u001b[0m \u001b[0;34m*\u001b[0m\u001b[0margs\u001b[0m\u001b[0;34m,\u001b[0m \u001b[0;34m**\u001b[0m\u001b[0mkwargs\u001b[0m\u001b[0;34m)\u001b[0m\u001b[0;34m:\u001b[0m\u001b[0;34m\u001b[0m\u001b[0m\n\u001b[1;32m    446\u001b[0m \u001b[0;34m\u001b[0m\u001b[0m\n\u001b[0;32m--> 447\u001b[0;31m         \u001b[0;32mreturn\u001b[0m \u001b[0mplot_dataframe\u001b[0m\u001b[0;34m(\u001b[0m\u001b[0mself\u001b[0m\u001b[0;34m,\u001b[0m \u001b[0;34m*\u001b[0m\u001b[0margs\u001b[0m\u001b[0;34m,\u001b[0m \u001b[0;34m**\u001b[0m\u001b[0mkwargs\u001b[0m\u001b[0;34m)\u001b[0m\u001b[0;34m\u001b[0m\u001b[0m\n\u001b[0m\u001b[1;32m    448\u001b[0m \u001b[0;34m\u001b[0m\u001b[0m\n\u001b[1;32m    449\u001b[0m     \u001b[0mplot\u001b[0m\u001b[0;34m.\u001b[0m\u001b[0m__doc__\u001b[0m \u001b[0;34m=\u001b[0m \u001b[0mplot_dataframe\u001b[0m\u001b[0;34m.\u001b[0m\u001b[0m__doc__\u001b[0m\u001b[0;34m\u001b[0m\u001b[0m\n",
      "\u001b[0;32m/Users/mferretti/anaconda/envs/cityAI-raster/lib/python2.7/site-packages/geopandas/plotting.pyc\u001b[0m in \u001b[0;36mplot_dataframe\u001b[0;34m(s, column, cmap, color, linewidth, categorical, legend, ax, scheme, k, vmin, vmax, figsize, **color_kwds)\u001b[0m\n\u001b[1;32m    238\u001b[0m         return plot_series(s.geometry, cmap=cmap, color=color,\n\u001b[1;32m    239\u001b[0m                            \u001b[0max\u001b[0m\u001b[0;34m=\u001b[0m\u001b[0max\u001b[0m\u001b[0;34m,\u001b[0m \u001b[0mlinewidth\u001b[0m\u001b[0;34m=\u001b[0m\u001b[0mlinewidth\u001b[0m\u001b[0;34m,\u001b[0m \u001b[0mfigsize\u001b[0m\u001b[0;34m=\u001b[0m\u001b[0mfigsize\u001b[0m\u001b[0;34m,\u001b[0m\u001b[0;34m\u001b[0m\u001b[0m\n\u001b[0;32m--> 240\u001b[0;31m                            **color_kwds)\n\u001b[0m\u001b[1;32m    241\u001b[0m     \u001b[0;32melse\u001b[0m\u001b[0;34m:\u001b[0m\u001b[0;34m\u001b[0m\u001b[0m\n\u001b[1;32m    242\u001b[0m         \u001b[0;32mif\u001b[0m \u001b[0ms\u001b[0m\u001b[0;34m[\u001b[0m\u001b[0mcolumn\u001b[0m\u001b[0;34m]\u001b[0m\u001b[0;34m.\u001b[0m\u001b[0mdtype\u001b[0m \u001b[0;32mis\u001b[0m \u001b[0mnp\u001b[0m\u001b[0;34m.\u001b[0m\u001b[0mdtype\u001b[0m\u001b[0;34m(\u001b[0m\u001b[0;34m'O'\u001b[0m\u001b[0;34m)\u001b[0m\u001b[0;34m:\u001b[0m\u001b[0;34m\u001b[0m\u001b[0m\n",
      "\u001b[0;32m/Users/mferretti/anaconda/envs/cityAI-raster/lib/python2.7/site-packages/geopandas/plotting.pyc\u001b[0m in \u001b[0;36mplot_series\u001b[0;34m(s, cmap, color, ax, linewidth, figsize, **color_kwds)\u001b[0m\n\u001b[1;32m    146\u001b[0m         \u001b[0;32melif\u001b[0m \u001b[0mgeom\u001b[0m\u001b[0;34m.\u001b[0m\u001b[0mtype\u001b[0m \u001b[0;34m==\u001b[0m \u001b[0;34m'Point'\u001b[0m\u001b[0;34m:\u001b[0m\u001b[0;34m\u001b[0m\u001b[0m\n\u001b[1;32m    147\u001b[0m             \u001b[0mplot_point\u001b[0m\u001b[0;34m(\u001b[0m\u001b[0max\u001b[0m\u001b[0;34m,\u001b[0m \u001b[0mgeom\u001b[0m\u001b[0;34m,\u001b[0m \u001b[0mcolor\u001b[0m\u001b[0;34m=\u001b[0m\u001b[0mcol\u001b[0m\u001b[0;34m,\u001b[0m \u001b[0;34m**\u001b[0m\u001b[0mcolor_kwds\u001b[0m\u001b[0;34m)\u001b[0m\u001b[0;34m\u001b[0m\u001b[0m\n\u001b[0;32m--> 148\u001b[0;31m     \u001b[0mplt\u001b[0m\u001b[0;34m.\u001b[0m\u001b[0mdraw\u001b[0m\u001b[0;34m(\u001b[0m\u001b[0;34m)\u001b[0m\u001b[0;34m\u001b[0m\u001b[0m\n\u001b[0m\u001b[1;32m    149\u001b[0m     \u001b[0;32mreturn\u001b[0m \u001b[0max\u001b[0m\u001b[0;34m\u001b[0m\u001b[0m\n\u001b[1;32m    150\u001b[0m \u001b[0;34m\u001b[0m\u001b[0m\n",
      "\u001b[0;32m/Users/mferretti/anaconda/envs/cityAI-raster/lib/python2.7/site-packages/matplotlib/pyplot.pyc\u001b[0m in \u001b[0;36mdraw\u001b[0;34m()\u001b[0m\n\u001b[1;32m    680\u001b[0m         \u001b[0mfig\u001b[0m\u001b[0;34m.\u001b[0m\u001b[0mcanvas\u001b[0m\u001b[0;34m.\u001b[0m\u001b[0mdraw_idle\u001b[0m\u001b[0;34m(\u001b[0m\u001b[0;34m)\u001b[0m\u001b[0;34m\u001b[0m\u001b[0m\n\u001b[1;32m    681\u001b[0m     \"\"\"\n\u001b[0;32m--> 682\u001b[0;31m     \u001b[0mget_current_fig_manager\u001b[0m\u001b[0;34m(\u001b[0m\u001b[0;34m)\u001b[0m\u001b[0;34m.\u001b[0m\u001b[0mcanvas\u001b[0m\u001b[0;34m.\u001b[0m\u001b[0mdraw_idle\u001b[0m\u001b[0;34m(\u001b[0m\u001b[0;34m)\u001b[0m\u001b[0;34m\u001b[0m\u001b[0m\n\u001b[0m\u001b[1;32m    683\u001b[0m \u001b[0;34m\u001b[0m\u001b[0m\n\u001b[1;32m    684\u001b[0m \u001b[0;34m\u001b[0m\u001b[0m\n",
      "\u001b[0;32m/Users/mferretti/anaconda/envs/cityAI-raster/lib/python2.7/site-packages/matplotlib/backend_bases.pyc\u001b[0m in \u001b[0;36mdraw_idle\u001b[0;34m(self, *args, **kwargs)\u001b[0m\n\u001b[1;32m   2024\u001b[0m         \u001b[0;32mif\u001b[0m \u001b[0;32mnot\u001b[0m \u001b[0mself\u001b[0m\u001b[0;34m.\u001b[0m\u001b[0m_is_idle_drawing\u001b[0m\u001b[0;34m:\u001b[0m\u001b[0;34m\u001b[0m\u001b[0m\n\u001b[1;32m   2025\u001b[0m             \u001b[0;32mwith\u001b[0m \u001b[0mself\u001b[0m\u001b[0;34m.\u001b[0m\u001b[0m_idle_draw_cntx\u001b[0m\u001b[0;34m(\u001b[0m\u001b[0;34m)\u001b[0m\u001b[0;34m:\u001b[0m\u001b[0;34m\u001b[0m\u001b[0m\n\u001b[0;32m-> 2026\u001b[0;31m                 \u001b[0mself\u001b[0m\u001b[0;34m.\u001b[0m\u001b[0mdraw\u001b[0m\u001b[0;34m(\u001b[0m\u001b[0;34m*\u001b[0m\u001b[0margs\u001b[0m\u001b[0;34m,\u001b[0m \u001b[0;34m**\u001b[0m\u001b[0mkwargs\u001b[0m\u001b[0;34m)\u001b[0m\u001b[0;34m\u001b[0m\u001b[0m\n\u001b[0m\u001b[1;32m   2027\u001b[0m \u001b[0;34m\u001b[0m\u001b[0m\n\u001b[1;32m   2028\u001b[0m     \u001b[0;32mdef\u001b[0m \u001b[0mdraw_cursor\u001b[0m\u001b[0;34m(\u001b[0m\u001b[0mself\u001b[0m\u001b[0;34m,\u001b[0m \u001b[0mevent\u001b[0m\u001b[0;34m)\u001b[0m\u001b[0;34m:\u001b[0m\u001b[0;34m\u001b[0m\u001b[0m\n",
      "\u001b[0;32m/Users/mferretti/anaconda/envs/cityAI-raster/lib/python2.7/site-packages/matplotlib/backends/backend_agg.pyc\u001b[0m in \u001b[0;36mdraw\u001b[0;34m(self)\u001b[0m\n\u001b[1;32m    472\u001b[0m \u001b[0;34m\u001b[0m\u001b[0m\n\u001b[1;32m    473\u001b[0m         \u001b[0;32mtry\u001b[0m\u001b[0;34m:\u001b[0m\u001b[0;34m\u001b[0m\u001b[0m\n\u001b[0;32m--> 474\u001b[0;31m             \u001b[0mself\u001b[0m\u001b[0;34m.\u001b[0m\u001b[0mfigure\u001b[0m\u001b[0;34m.\u001b[0m\u001b[0mdraw\u001b[0m\u001b[0;34m(\u001b[0m\u001b[0mself\u001b[0m\u001b[0;34m.\u001b[0m\u001b[0mrenderer\u001b[0m\u001b[0;34m)\u001b[0m\u001b[0;34m\u001b[0m\u001b[0m\n\u001b[0m\u001b[1;32m    475\u001b[0m         \u001b[0;32mfinally\u001b[0m\u001b[0;34m:\u001b[0m\u001b[0;34m\u001b[0m\u001b[0m\n\u001b[1;32m    476\u001b[0m             \u001b[0mRendererAgg\u001b[0m\u001b[0;34m.\u001b[0m\u001b[0mlock\u001b[0m\u001b[0;34m.\u001b[0m\u001b[0mrelease\u001b[0m\u001b[0;34m(\u001b[0m\u001b[0;34m)\u001b[0m\u001b[0;34m\u001b[0m\u001b[0m\n",
      "\u001b[0;32m/Users/mferretti/anaconda/envs/cityAI-raster/lib/python2.7/site-packages/matplotlib/artist.pyc\u001b[0m in \u001b[0;36mdraw_wrapper\u001b[0;34m(artist, renderer, *args, **kwargs)\u001b[0m\n\u001b[1;32m     59\u001b[0m     \u001b[0;32mdef\u001b[0m \u001b[0mdraw_wrapper\u001b[0m\u001b[0;34m(\u001b[0m\u001b[0martist\u001b[0m\u001b[0;34m,\u001b[0m \u001b[0mrenderer\u001b[0m\u001b[0;34m,\u001b[0m \u001b[0;34m*\u001b[0m\u001b[0margs\u001b[0m\u001b[0;34m,\u001b[0m \u001b[0;34m**\u001b[0m\u001b[0mkwargs\u001b[0m\u001b[0;34m)\u001b[0m\u001b[0;34m:\u001b[0m\u001b[0;34m\u001b[0m\u001b[0m\n\u001b[1;32m     60\u001b[0m         \u001b[0mbefore\u001b[0m\u001b[0;34m(\u001b[0m\u001b[0martist\u001b[0m\u001b[0;34m,\u001b[0m \u001b[0mrenderer\u001b[0m\u001b[0;34m)\u001b[0m\u001b[0;34m\u001b[0m\u001b[0m\n\u001b[0;32m---> 61\u001b[0;31m         \u001b[0mdraw\u001b[0m\u001b[0;34m(\u001b[0m\u001b[0martist\u001b[0m\u001b[0;34m,\u001b[0m \u001b[0mrenderer\u001b[0m\u001b[0;34m,\u001b[0m \u001b[0;34m*\u001b[0m\u001b[0margs\u001b[0m\u001b[0;34m,\u001b[0m \u001b[0;34m**\u001b[0m\u001b[0mkwargs\u001b[0m\u001b[0;34m)\u001b[0m\u001b[0;34m\u001b[0m\u001b[0m\n\u001b[0m\u001b[1;32m     62\u001b[0m         \u001b[0mafter\u001b[0m\u001b[0;34m(\u001b[0m\u001b[0martist\u001b[0m\u001b[0;34m,\u001b[0m \u001b[0mrenderer\u001b[0m\u001b[0;34m)\u001b[0m\u001b[0;34m\u001b[0m\u001b[0m\n\u001b[1;32m     63\u001b[0m \u001b[0;34m\u001b[0m\u001b[0m\n",
      "\u001b[0;32m/Users/mferretti/anaconda/envs/cityAI-raster/lib/python2.7/site-packages/matplotlib/figure.pyc\u001b[0m in \u001b[0;36mdraw\u001b[0;34m(self, renderer)\u001b[0m\n\u001b[1;32m   1157\u001b[0m         \u001b[0mdsu\u001b[0m\u001b[0;34m.\u001b[0m\u001b[0msort\u001b[0m\u001b[0;34m(\u001b[0m\u001b[0mkey\u001b[0m\u001b[0;34m=\u001b[0m\u001b[0mitemgetter\u001b[0m\u001b[0;34m(\u001b[0m\u001b[0;36m0\u001b[0m\u001b[0;34m)\u001b[0m\u001b[0;34m)\u001b[0m\u001b[0;34m\u001b[0m\u001b[0m\n\u001b[1;32m   1158\u001b[0m         \u001b[0;32mfor\u001b[0m \u001b[0mzorder\u001b[0m\u001b[0;34m,\u001b[0m \u001b[0ma\u001b[0m\u001b[0;34m,\u001b[0m \u001b[0mfunc\u001b[0m\u001b[0;34m,\u001b[0m \u001b[0margs\u001b[0m \u001b[0;32min\u001b[0m \u001b[0mdsu\u001b[0m\u001b[0;34m:\u001b[0m\u001b[0;34m\u001b[0m\u001b[0m\n\u001b[0;32m-> 1159\u001b[0;31m             \u001b[0mfunc\u001b[0m\u001b[0;34m(\u001b[0m\u001b[0;34m*\u001b[0m\u001b[0margs\u001b[0m\u001b[0;34m)\u001b[0m\u001b[0;34m\u001b[0m\u001b[0m\n\u001b[0m\u001b[1;32m   1160\u001b[0m \u001b[0;34m\u001b[0m\u001b[0m\n\u001b[1;32m   1161\u001b[0m         \u001b[0mrenderer\u001b[0m\u001b[0;34m.\u001b[0m\u001b[0mclose_group\u001b[0m\u001b[0;34m(\u001b[0m\u001b[0;34m'figure'\u001b[0m\u001b[0;34m)\u001b[0m\u001b[0;34m\u001b[0m\u001b[0m\n",
      "\u001b[0;32m/Users/mferretti/anaconda/envs/cityAI-raster/lib/python2.7/site-packages/matplotlib/artist.pyc\u001b[0m in \u001b[0;36mdraw_wrapper\u001b[0;34m(artist, renderer, *args, **kwargs)\u001b[0m\n\u001b[1;32m     59\u001b[0m     \u001b[0;32mdef\u001b[0m \u001b[0mdraw_wrapper\u001b[0m\u001b[0;34m(\u001b[0m\u001b[0martist\u001b[0m\u001b[0;34m,\u001b[0m \u001b[0mrenderer\u001b[0m\u001b[0;34m,\u001b[0m \u001b[0;34m*\u001b[0m\u001b[0margs\u001b[0m\u001b[0;34m,\u001b[0m \u001b[0;34m**\u001b[0m\u001b[0mkwargs\u001b[0m\u001b[0;34m)\u001b[0m\u001b[0;34m:\u001b[0m\u001b[0;34m\u001b[0m\u001b[0m\n\u001b[1;32m     60\u001b[0m         \u001b[0mbefore\u001b[0m\u001b[0;34m(\u001b[0m\u001b[0martist\u001b[0m\u001b[0;34m,\u001b[0m \u001b[0mrenderer\u001b[0m\u001b[0;34m)\u001b[0m\u001b[0;34m\u001b[0m\u001b[0m\n\u001b[0;32m---> 61\u001b[0;31m         \u001b[0mdraw\u001b[0m\u001b[0;34m(\u001b[0m\u001b[0martist\u001b[0m\u001b[0;34m,\u001b[0m \u001b[0mrenderer\u001b[0m\u001b[0;34m,\u001b[0m \u001b[0;34m*\u001b[0m\u001b[0margs\u001b[0m\u001b[0;34m,\u001b[0m \u001b[0;34m**\u001b[0m\u001b[0mkwargs\u001b[0m\u001b[0;34m)\u001b[0m\u001b[0;34m\u001b[0m\u001b[0m\n\u001b[0m\u001b[1;32m     62\u001b[0m         \u001b[0mafter\u001b[0m\u001b[0;34m(\u001b[0m\u001b[0martist\u001b[0m\u001b[0;34m,\u001b[0m \u001b[0mrenderer\u001b[0m\u001b[0;34m)\u001b[0m\u001b[0;34m\u001b[0m\u001b[0m\n\u001b[1;32m     63\u001b[0m \u001b[0;34m\u001b[0m\u001b[0m\n",
      "\u001b[0;32m/Users/mferretti/anaconda/envs/cityAI-raster/lib/python2.7/site-packages/matplotlib/axes/_base.pyc\u001b[0m in \u001b[0;36mdraw\u001b[0;34m(self, renderer, inframe)\u001b[0m\n\u001b[1;32m   2322\u001b[0m \u001b[0;34m\u001b[0m\u001b[0m\n\u001b[1;32m   2323\u001b[0m         \u001b[0;32mfor\u001b[0m \u001b[0mzorder\u001b[0m\u001b[0;34m,\u001b[0m \u001b[0ma\u001b[0m \u001b[0;32min\u001b[0m \u001b[0mdsu\u001b[0m\u001b[0;34m:\u001b[0m\u001b[0;34m\u001b[0m\u001b[0m\n\u001b[0;32m-> 2324\u001b[0;31m             \u001b[0ma\u001b[0m\u001b[0;34m.\u001b[0m\u001b[0mdraw\u001b[0m\u001b[0;34m(\u001b[0m\u001b[0mrenderer\u001b[0m\u001b[0;34m)\u001b[0m\u001b[0;34m\u001b[0m\u001b[0m\n\u001b[0m\u001b[1;32m   2325\u001b[0m \u001b[0;34m\u001b[0m\u001b[0m\n\u001b[1;32m   2326\u001b[0m         \u001b[0mrenderer\u001b[0m\u001b[0;34m.\u001b[0m\u001b[0mclose_group\u001b[0m\u001b[0;34m(\u001b[0m\u001b[0;34m'axes'\u001b[0m\u001b[0;34m)\u001b[0m\u001b[0;34m\u001b[0m\u001b[0m\n",
      "\u001b[0;32m/Users/mferretti/anaconda/envs/cityAI-raster/lib/python2.7/site-packages/matplotlib/artist.pyc\u001b[0m in \u001b[0;36mdraw_wrapper\u001b[0;34m(artist, renderer, *args, **kwargs)\u001b[0m\n\u001b[1;32m     59\u001b[0m     \u001b[0;32mdef\u001b[0m \u001b[0mdraw_wrapper\u001b[0m\u001b[0;34m(\u001b[0m\u001b[0martist\u001b[0m\u001b[0;34m,\u001b[0m \u001b[0mrenderer\u001b[0m\u001b[0;34m,\u001b[0m \u001b[0;34m*\u001b[0m\u001b[0margs\u001b[0m\u001b[0;34m,\u001b[0m \u001b[0;34m**\u001b[0m\u001b[0mkwargs\u001b[0m\u001b[0;34m)\u001b[0m\u001b[0;34m:\u001b[0m\u001b[0;34m\u001b[0m\u001b[0m\n\u001b[1;32m     60\u001b[0m         \u001b[0mbefore\u001b[0m\u001b[0;34m(\u001b[0m\u001b[0martist\u001b[0m\u001b[0;34m,\u001b[0m \u001b[0mrenderer\u001b[0m\u001b[0;34m)\u001b[0m\u001b[0;34m\u001b[0m\u001b[0m\n\u001b[0;32m---> 61\u001b[0;31m         \u001b[0mdraw\u001b[0m\u001b[0;34m(\u001b[0m\u001b[0martist\u001b[0m\u001b[0;34m,\u001b[0m \u001b[0mrenderer\u001b[0m\u001b[0;34m,\u001b[0m \u001b[0;34m*\u001b[0m\u001b[0margs\u001b[0m\u001b[0;34m,\u001b[0m \u001b[0;34m**\u001b[0m\u001b[0mkwargs\u001b[0m\u001b[0;34m)\u001b[0m\u001b[0;34m\u001b[0m\u001b[0m\n\u001b[0m\u001b[1;32m     62\u001b[0m         \u001b[0mafter\u001b[0m\u001b[0;34m(\u001b[0m\u001b[0martist\u001b[0m\u001b[0;34m,\u001b[0m \u001b[0mrenderer\u001b[0m\u001b[0;34m)\u001b[0m\u001b[0;34m\u001b[0m\u001b[0m\n\u001b[1;32m     63\u001b[0m \u001b[0;34m\u001b[0m\u001b[0m\n",
      "\u001b[0;32m/Users/mferretti/anaconda/envs/cityAI-raster/lib/python2.7/site-packages/matplotlib/axis.pyc\u001b[0m in \u001b[0;36mdraw\u001b[0;34m(self, renderer, *args, **kwargs)\u001b[0m\n\u001b[1;32m   1104\u001b[0m         \u001b[0mrenderer\u001b[0m\u001b[0;34m.\u001b[0m\u001b[0mopen_group\u001b[0m\u001b[0;34m(\u001b[0m\u001b[0m__name__\u001b[0m\u001b[0;34m)\u001b[0m\u001b[0;34m\u001b[0m\u001b[0m\n\u001b[1;32m   1105\u001b[0m \u001b[0;34m\u001b[0m\u001b[0m\n\u001b[0;32m-> 1106\u001b[0;31m         \u001b[0mticks_to_draw\u001b[0m \u001b[0;34m=\u001b[0m \u001b[0mself\u001b[0m\u001b[0;34m.\u001b[0m\u001b[0m_update_ticks\u001b[0m\u001b[0;34m(\u001b[0m\u001b[0mrenderer\u001b[0m\u001b[0;34m)\u001b[0m\u001b[0;34m\u001b[0m\u001b[0m\n\u001b[0m\u001b[1;32m   1107\u001b[0m         ticklabelBoxes, ticklabelBoxes2 = self._get_tick_bboxes(ticks_to_draw,\n\u001b[1;32m   1108\u001b[0m                                                                 renderer)\n",
      "\u001b[0;32m/Users/mferretti/anaconda/envs/cityAI-raster/lib/python2.7/site-packages/matplotlib/axis.pyc\u001b[0m in \u001b[0;36m_update_ticks\u001b[0;34m(self, renderer)\u001b[0m\n\u001b[1;32m    947\u001b[0m \u001b[0;34m\u001b[0m\u001b[0m\n\u001b[1;32m    948\u001b[0m         \u001b[0minterval\u001b[0m \u001b[0;34m=\u001b[0m \u001b[0mself\u001b[0m\u001b[0;34m.\u001b[0m\u001b[0mget_view_interval\u001b[0m\u001b[0;34m(\u001b[0m\u001b[0;34m)\u001b[0m\u001b[0;34m\u001b[0m\u001b[0m\n\u001b[0;32m--> 949\u001b[0;31m         \u001b[0mtick_tups\u001b[0m \u001b[0;34m=\u001b[0m \u001b[0;34m[\u001b[0m\u001b[0mt\u001b[0m \u001b[0;32mfor\u001b[0m \u001b[0mt\u001b[0m \u001b[0;32min\u001b[0m \u001b[0mself\u001b[0m\u001b[0;34m.\u001b[0m\u001b[0miter_ticks\u001b[0m\u001b[0;34m(\u001b[0m\u001b[0;34m)\u001b[0m\u001b[0;34m]\u001b[0m\u001b[0;34m\u001b[0m\u001b[0m\n\u001b[0m\u001b[1;32m    950\u001b[0m         \u001b[0;32mif\u001b[0m \u001b[0mself\u001b[0m\u001b[0;34m.\u001b[0m\u001b[0m_smart_bounds\u001b[0m\u001b[0;34m:\u001b[0m\u001b[0;34m\u001b[0m\u001b[0m\n\u001b[1;32m    951\u001b[0m             \u001b[0;31m# handle inverted limits\u001b[0m\u001b[0;34m\u001b[0m\u001b[0;34m\u001b[0m\u001b[0m\n",
      "\u001b[0;32m/Users/mferretti/anaconda/envs/cityAI-raster/lib/python2.7/site-packages/matplotlib/axis.pyc\u001b[0m in \u001b[0;36miter_ticks\u001b[0;34m(self)\u001b[0m\n\u001b[1;32m    890\u001b[0m         \u001b[0mIterate\u001b[0m \u001b[0mthrough\u001b[0m \u001b[0mall\u001b[0m \u001b[0mof\u001b[0m \u001b[0mthe\u001b[0m \u001b[0mmajor\u001b[0m \u001b[0;32mand\u001b[0m \u001b[0mminor\u001b[0m \u001b[0mticks\u001b[0m\u001b[0;34m.\u001b[0m\u001b[0;34m\u001b[0m\u001b[0m\n\u001b[1;32m    891\u001b[0m         \"\"\"\n\u001b[0;32m--> 892\u001b[0;31m         \u001b[0mmajorLocs\u001b[0m \u001b[0;34m=\u001b[0m \u001b[0mself\u001b[0m\u001b[0;34m.\u001b[0m\u001b[0mmajor\u001b[0m\u001b[0;34m.\u001b[0m\u001b[0mlocator\u001b[0m\u001b[0;34m(\u001b[0m\u001b[0;34m)\u001b[0m\u001b[0;34m\u001b[0m\u001b[0m\n\u001b[0m\u001b[1;32m    893\u001b[0m         \u001b[0mmajorTicks\u001b[0m \u001b[0;34m=\u001b[0m \u001b[0mself\u001b[0m\u001b[0;34m.\u001b[0m\u001b[0mget_major_ticks\u001b[0m\u001b[0;34m(\u001b[0m\u001b[0mlen\u001b[0m\u001b[0;34m(\u001b[0m\u001b[0mmajorLocs\u001b[0m\u001b[0;34m)\u001b[0m\u001b[0;34m)\u001b[0m\u001b[0;34m\u001b[0m\u001b[0m\n\u001b[1;32m    894\u001b[0m         \u001b[0mself\u001b[0m\u001b[0;34m.\u001b[0m\u001b[0mmajor\u001b[0m\u001b[0;34m.\u001b[0m\u001b[0mformatter\u001b[0m\u001b[0;34m.\u001b[0m\u001b[0mset_locs\u001b[0m\u001b[0;34m(\u001b[0m\u001b[0mmajorLocs\u001b[0m\u001b[0;34m)\u001b[0m\u001b[0;34m\u001b[0m\u001b[0m\n",
      "\u001b[0;32m/Users/mferretti/anaconda/envs/cityAI-raster/lib/python2.7/site-packages/matplotlib/ticker.pyc\u001b[0m in \u001b[0;36m__call__\u001b[0;34m(self)\u001b[0m\n\u001b[1;32m   1792\u001b[0m     \"\"\"\n\u001b[1;32m   1793\u001b[0m     \u001b[0mDetermine\u001b[0m \u001b[0mthe\u001b[0m \u001b[0mtick\u001b[0m \u001b[0mlocations\u001b[0m \u001b[0;32mfor\u001b[0m \u001b[0mlogit\u001b[0m \u001b[0maxes\u001b[0m\u001b[0;34m\u001b[0m\u001b[0m\n\u001b[0;32m-> 1794\u001b[0;31m     \"\"\"\n\u001b[0m\u001b[1;32m   1795\u001b[0m \u001b[0;34m\u001b[0m\u001b[0m\n\u001b[1;32m   1796\u001b[0m     \u001b[0;32mdef\u001b[0m \u001b[0m__init__\u001b[0m\u001b[0;34m(\u001b[0m\u001b[0mself\u001b[0m\u001b[0;34m,\u001b[0m \u001b[0mminor\u001b[0m\u001b[0;34m=\u001b[0m\u001b[0mFalse\u001b[0m\u001b[0;34m)\u001b[0m\u001b[0;34m:\u001b[0m\u001b[0;34m\u001b[0m\u001b[0m\n",
      "\u001b[0;32m/Users/mferretti/anaconda/envs/cityAI-raster/lib/python2.7/site-packages/matplotlib/ticker.pyc\u001b[0m in \u001b[0;36mtick_values\u001b[0;34m(self, vmin, vmax)\u001b[0m\n\u001b[1;32m   1800\u001b[0m         \u001b[0mself\u001b[0m\u001b[0;34m.\u001b[0m\u001b[0mminor\u001b[0m \u001b[0;34m=\u001b[0m \u001b[0mminor\u001b[0m\u001b[0;34m\u001b[0m\u001b[0m\n\u001b[1;32m   1801\u001b[0m \u001b[0;34m\u001b[0m\u001b[0m\n\u001b[0;32m-> 1802\u001b[0;31m     \u001b[0;32mdef\u001b[0m \u001b[0mset_params\u001b[0m\u001b[0;34m(\u001b[0m\u001b[0mself\u001b[0m\u001b[0;34m,\u001b[0m \u001b[0mminor\u001b[0m\u001b[0;34m=\u001b[0m\u001b[0mNone\u001b[0m\u001b[0;34m)\u001b[0m\u001b[0;34m:\u001b[0m\u001b[0;34m\u001b[0m\u001b[0m\n\u001b[0m\u001b[1;32m   1803\u001b[0m         \u001b[0;34m\"\"\"Set parameters within this locator.\"\"\"\u001b[0m\u001b[0;34m\u001b[0m\u001b[0m\n\u001b[1;32m   1804\u001b[0m         \u001b[0;32mif\u001b[0m \u001b[0mminor\u001b[0m \u001b[0;32mis\u001b[0m \u001b[0;32mnot\u001b[0m \u001b[0mNone\u001b[0m\u001b[0;34m:\u001b[0m\u001b[0;34m\u001b[0m\u001b[0m\n",
      "\u001b[0;32m/Users/mferretti/anaconda/envs/cityAI-raster/lib/python2.7/site-packages/matplotlib/ticker.pyc\u001b[0m in \u001b[0;36m_raw_ticks\u001b[0;34m(self, vmin, vmax)\u001b[0m\n\u001b[1;32m   1742\u001b[0m         \u001b[0;32mif\u001b[0m \u001b[0mhas_b\u001b[0m\u001b[0;34m:\u001b[0m\u001b[0;34m\u001b[0m\u001b[0m\n\u001b[1;32m   1743\u001b[0m             \u001b[0mdecades\u001b[0m\u001b[0;34m.\u001b[0m\u001b[0mappend\u001b[0m\u001b[0;34m(\u001b[0m\u001b[0;36m0.0\u001b[0m\u001b[0;34m)\u001b[0m\u001b[0;34m\u001b[0m\u001b[0m\n\u001b[0;32m-> 1744\u001b[0;31m \u001b[0;34m\u001b[0m\u001b[0m\n\u001b[0m\u001b[1;32m   1745\u001b[0m         \u001b[0;32mif\u001b[0m \u001b[0mhas_c\u001b[0m\u001b[0;34m:\u001b[0m\u001b[0;34m\u001b[0m\u001b[0m\n\u001b[1;32m   1746\u001b[0m             \u001b[0mdecades\u001b[0m\u001b[0;34m.\u001b[0m\u001b[0mextend\u001b[0m\u001b[0;34m(\u001b[0m\u001b[0mb\u001b[0m \u001b[0;34m**\u001b[0m \u001b[0;34m(\u001b[0m\u001b[0mnp\u001b[0m\u001b[0;34m.\u001b[0m\u001b[0marange\u001b[0m\u001b[0;34m(\u001b[0m\u001b[0mc_range\u001b[0m\u001b[0;34m[\u001b[0m\u001b[0;36m0\u001b[0m\u001b[0;34m]\u001b[0m\u001b[0;34m,\u001b[0m \u001b[0mc_range\u001b[0m\u001b[0;34m[\u001b[0m\u001b[0;36m1\u001b[0m\u001b[0;34m]\u001b[0m\u001b[0;34m,\u001b[0m \u001b[0mstride\u001b[0m\u001b[0;34m)\u001b[0m\u001b[0;34m)\u001b[0m\u001b[0;34m)\u001b[0m\u001b[0;34m\u001b[0m\u001b[0m\n",
      "\u001b[0;31mAttributeError\u001b[0m: 'XAxis' object has no attribute 'get_tick_space'"
     ]
    }
   ],
   "source": [
    "from shapely.geometry import mapping, shape\n",
    "from shapely.ops import cascaded_union\n",
    "from fiona import collection\n",
    "\n",
    "\n",
    "# Plot the WGS84\n",
    "\n",
    "with collection(\"some_buffer.shp\", \"r\") as input:\n",
    "    schema = input.schema.copy()\n",
    "    with collection(\n",
    "            \"some_union.shp\", \"w\", \"ESRI Shapefile\", schema) as output:\n",
    "        shapes = []\n",
    "        for f in input:\n",
    "            shapes.append(shape(f['geometry']))\n",
    "        merged = cascaded_union(shapes)\n",
    "        output.write({\n",
    "            'properties': {\n",
    "                'name': 'Buffer Area'\n",
    "                },\n",
    "            'geometry': mapping(merged)\n",
    "            })\n",
    "\n",
    "a =gpd.read_file(\"some_union.shp\")\n",
    "a.plot();"
   ]
  },
  {
   "cell_type": "code",
   "execution_count": 3,
   "metadata": {
    "collapsed": false
   },
   "outputs": [
    {
     "data": {
      "image/png": "[encoded data removed]",
      "text/plain": [
       "<matplotlib.figure.Figure at 0x10f4be550>"
      ]
     },
     "metadata": {},
     "output_type": "display_data"
    }
   ],
   "source": [
    "import geopandas as gpd\n",
    "world = gpd.read_file(gpd.datasets.get_path('naturalearth_lowres'))\n",
    "world.plot()\n",
    "import matplotlib.pyplot as plt\n",
    "plt.show()"
   ]
  },
  {
   "cell_type": "code",
   "execution_count": 35,
   "metadata": {
    "collapsed": false
   },
   "outputs": [
    {
     "data": {
      "text/html": [
       "<div>\n",
       "<table border=\"1\" class=\"dataframe\">\n",
       "  <thead>\n",
       "    <tr style=\"text-align: right;\">\n",
       "      <th></th>\n",
       "      <th>due</th>\n",
       "      <th>tre</th>\n",
       "      <th>uno</th>\n",
       "    </tr>\n",
       "  </thead>\n",
       "  <tbody>\n",
       "    <tr>\n",
       "      <th>0</th>\n",
       "      <td>23</td>\n",
       "      <td>88</td>\n",
       "      <td>1</td>\n",
       "    </tr>\n",
       "    <tr>\n",
       "      <th>1</th>\n",
       "      <td>9</td>\n",
       "      <td>44</td>\n",
       "      <td>2</td>\n",
       "    </tr>\n",
       "    <tr>\n",
       "      <th>2</th>\n",
       "      <td>sadasd</td>\n",
       "      <td>56</td>\n",
       "      <td>4</td>\n",
       "    </tr>\n",
       "  </tbody>\n",
       "</table>\n",
       "</div>"
      ],
      "text/plain": [
       "      due  tre  uno\n",
       "0      23   88    1\n",
       "1       9   44    2\n",
       "2  sadasd   56    4"
      ]
     },
     "execution_count": 35,
     "metadata": {},
     "output_type": "execute_result"
    }
   ],
   "source": [
    "\n",
    "d = {'uno': [1,2,4], 'due': [23,9,'sadasd'], 'tre': [88,44,56]}\n",
    "df = pd.DataFrame(d)\n",
    "df"
   ]
  },
  {
   "cell_type": "code",
   "execution_count": 53,
   "metadata": {
    "collapsed": false
   },
   "outputs": [],
   "source": [
    "# a = df.loc('uno')\n",
    "# df[['uno', 'tre']]\n",
    "df['quattro'] = df['tre']  + 5"
   ]
  },
  {
   "cell_type": "code",
   "execution_count": 54,
   "metadata": {
    "collapsed": false
   },
   "outputs": [
    {
     "data": {
      "text/html": [
       "<div>\n",
       "<table border=\"1\" class=\"dataframe\">\n",
       "  <thead>\n",
       "    <tr style=\"text-align: right;\">\n",
       "      <th></th>\n",
       "      <th>due</th>\n",
       "      <th>tre</th>\n",
       "      <th>uno</th>\n",
       "      <th>quattro</th>\n",
       "    </tr>\n",
       "  </thead>\n",
       "  <tbody>\n",
       "    <tr>\n",
       "      <th>0</th>\n",
       "      <td>23</td>\n",
       "      <td>88</td>\n",
       "      <td>1</td>\n",
       "      <td>93</td>\n",
       "    </tr>\n",
       "    <tr>\n",
       "      <th>1</th>\n",
       "      <td>9</td>\n",
       "      <td>44</td>\n",
       "      <td>2</td>\n",
       "      <td>49</td>\n",
       "    </tr>\n",
       "    <tr>\n",
       "      <th>2</th>\n",
       "      <td>sadasd</td>\n",
       "      <td>56</td>\n",
       "      <td>4</td>\n",
       "      <td>61</td>\n",
       "    </tr>\n",
       "  </tbody>\n",
       "</table>\n",
       "</div>"
      ],
      "text/plain": [
       "      due  tre  uno  quattro\n",
       "0      23   88    1       93\n",
       "1       9   44    2       49\n",
       "2  sadasd   56    4       61"
      ]
     },
     "execution_count": 54,
     "metadata": {},
     "output_type": "execute_result"
    }
   ],
   "source": [
    "df\n"
   ]
  },
  {
   "cell_type": "markdown",
   "metadata": {
    "collapsed": true
   },
   "source": [
    "# References\n",
    "\n",
    "All of the above is largely based on the following (awesome!) resource:\n",
    "- [Shapely Docs](http://toblerity.org/shapely/manual.html))\n",
    "- [Tenkanen H. (2016), Automating GIS processes](https://automating-gis-processes.github.io/2016/index.html)\n",
    "- [Westra E. (2013)](https://www.packtpub.com/application-development/python-geospatial-development-second-edition)\n",
    "- [MacWrigh, T. (2013), GIS with Python, Shapely, and Fiona](http://www.macwright.org/2012/10/31/gis-with-python-shapely-fiona.html)"
   ]
  }
 ],
 "metadata": {
  "kernelspec": {
   "display_name": "Python 2",
   "language": "python",
   "name": "python2"
  },
  "language_info": {
   "codemirror_mode": {
    "name": "ipython",
    "version": 2
   },
   "file_extension": ".py",
   "mimetype": "text/x-python",
   "name": "python",
   "nbconvert_exporter": "python",
   "pygments_lexer": "ipython2",
   "version": "2.7.13"
  }
 },
 "nbformat": 4,
 "nbformat_minor": 2
}
