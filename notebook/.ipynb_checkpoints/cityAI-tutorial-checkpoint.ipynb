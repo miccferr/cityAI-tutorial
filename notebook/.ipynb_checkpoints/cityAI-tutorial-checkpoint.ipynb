{
 "cells": [
  {
   "cell_type": "code",
   "execution_count": 105,
   "metadata": {
    "collapsed": false
   },
   "outputs": [],
   "source": [
    "# required packages\n",
    "import os\n",
    "import csv\n",
    "from shapely.geometry import Point, LineString, Polygon, MultiPoint, mapping,shape\n",
    "from fiona import collection\n",
    "import matplotlib.pyplot as plt\n",
    "import pandas as pd\n",
    "import geopandas as gpd\n",
    "from bokeh.plotting import figure, save\n",
    "import pysal\n"
   ]
  },
  {
   "cell_type": "markdown",
   "metadata": {},
   "source": [
    "# SHAPELY + FIONA = GIS ftw!"
   ]
  },
  {
   "cell_type": "markdown",
   "metadata": {},
   "source": [
    "### What is Shapely?\n",
    "> Shapely is a BSD-licensed Python package for manipulation and analysis of planar geometric objects. It is based on the widely deployed GEOS (the engine of PostGIS) and JTS (from which GEOS is ported) libraries.  \n",
    "\n",
    "### Why should I use it? \n",
    "\n",
    "\n",
    "> - The first premise of Shapely is that Python programmers should be able to **perform PostGIS type geometry operations outside of an RDBMS**... if there’s no mandate to manage (the “M” in “RDBMS”) the data over time in the database we’re using the wrong tool for the job\n",
    "\n",
    "> - The second premise is that the **persistence, serialization, and map projection** of features are significant, but *orthogonal problems*.\n",
    "\n",
    "> - The third premise is that **Python idioms trump GIS** (or Java, in this case, since the GEOS library is derived from JTS, a Java project) idioms.\n",
    "\n",
    "(source: [Shapely Docs](http://toblerity.org/shapely/manual.html))\n",
    "\n",
    "\n",
    "...which means that you should/could use Shapely whenever you need to build or perform fast, off-the-shelf, customisable operations on geographic features that adhere to the [open geospatial community standards](http://www.opengeospatial.org/). \n",
    "\n",
    "Always be mindful though that, while Shapely is great for working on your spatial data geometries, it **does NOT** take care of their geographic dimension, i.e. it treats data as entities on a flat Euclidean plane, it does not consider any geographic projection (but there's [Fiona](https://github.com/Toblerity/Fiona) for that!)."
   ]
  },
  {
   "cell_type": "markdown",
   "metadata": {},
   "source": [
    "### How does it work?\n",
    "\n",
    "![](../imgs/640px-Venn_A_intersect_B.svg.png)\n",
    "(photograph by [Cepheus](https://commons.wikimedia.org/wiki/File:Venn_A_intersect_B.svg), distributed under a CC-BY 2.0 license).\n",
    " \n",
    " \n",
    "Shapely's conceptualisation of geographic features is built on predicates borrowed from [Set Theory](https://en.wikipedia.org/wiki/Set_theory)  a branch of mathematics that studies **sets**, or informal collections of objects.\n",
    "\n",
    "\n",
    "### Spatial Data Model \n",
    "\n",
    "Shapely's **Spatial Data Model** is composed by three geometrical primitives (*Points, Curves* and *Surfaces*) represented by  three collection, or sets, of points in the plane. These are the *interior*, *boundary* and *exterior* sets; each mutually exclusive to the others.\n",
    "\n",
    "Thus, to represent a **Point** Shapely uses\n",
    ">...an interior set of exactly one point, a boundary set of exactly no points, and an exterior set of all other points.\n",
    "\n",
    "a **Curve** is associated with \n",
    "> ...an interior set consisting of the infinitely many points along its length (imagine a Point dragged in space), a boundary set consisting of its two end points, and an exterior set of all other points\n",
    "\n",
    "while a **Surface** has\n",
    "> an interior set consisting of the infinitely many points within (imagine a Curve dragged in space to cover an area), a boundary set consisting of one or more Curves, and an exterior set of all other points including those within holes that might exist in the surface\n",
    "(source: [Shapely Docs](http://toblerity.org/shapely/manual.html))\n",
    "\n",
    "This (really brief) theory dive is fundamental to understand the Shapely's way of \"seeing\" data, and allows a more proficient use of its API.\n",
    "\n",
    "Dimensionally Extended Nine-Intersection Model (DE-9IM)\n",
    "http://giswiki.hsr.ch/images/3/3d/9dem_springer.pdf\n"
   ]
  },
  {
   "cell_type": "markdown",
   "metadata": {},
   "source": [
    "## Let's build something from scratch with Shapely\n",
    "\n",
    "Starting with simple points!"
   ]
  },
  {
   "cell_type": "code",
   "execution_count": 27,
   "metadata": {
    "collapsed": false
   },
   "outputs": [
    {
     "name": "stdout",
     "output_type": "stream",
     "text": [
      "opendot is a POINT (9.221946000000001 45.447798) and this is its type: <class 'shapely.geometry.point.Point'>\n"
     ]
    }
   ],
   "source": [
    "# let's create some points\n",
    "# FIRST LONG THEN LAT!!!\n",
    "domm = Point(9.191068,45.464041)\n",
    "opendot = Point(9.221946, 45.447798)\n",
    "\n",
    "# check everything went fine\n",
    "print \"opendot is a {} and this is its type: {}\".format( opendot, type(opendot) )"
   ]
  },
  {
   "cell_type": "code",
   "execution_count": 28,
   "metadata": {
    "collapsed": false
   },
   "outputs": [
    {
     "name": "stdout",
     "output_type": "stream",
     "text": [
      "(array('d', [9.191068]), array('d', [45.464041]))\n",
      "Milan's Duomo is located at lon 9.191068 lat 45.464041\n"
     ]
    }
   ],
   "source": [
    "#since these features are plain python objects, they come with properties and methods\n",
    "# e.g. coordinates\n",
    "print domm.coords.xy\n",
    "print \"Milan's Duomo is located at lon {} lat {}\".format(domm.x, domm.y)"
   ]
  },
  {
   "cell_type": "markdown",
   "metadata": {},
   "source": [
    "and of course, we can attach custom properties"
   ]
  },
  {
   "cell_type": "code",
   "execution_count": 29,
   "metadata": {
    "collapsed": false
   },
   "outputs": [],
   "source": [
    "domm.name = \"Duomo\"\n",
    "opendot.name = \"OpenDot\""
   ]
  },
  {
   "cell_type": "markdown",
   "metadata": {},
   "source": [
    "**NOTE**: the feature's coordinates are based on their current projection, i.e. degrees in WGS84, meters in UTM"
   ]
  },
  {
   "cell_type": "code",
   "execution_count": 30,
   "metadata": {
    "collapsed": false
   },
   "outputs": [
    {
     "name": "stdout",
     "output_type": "stream",
     "text": [
      "The distance between Duomo and Opendot is 0.03 decimal degrees\n"
     ]
    }
   ],
   "source": [
    "# what is the distance between Duomo and Opendot?\n",
    "point_dist = domm.distance(opendot)\n",
    "print \"The distance between Duomo and Opendot is {0:.2f} decimal degrees\".format(point_dist)"
   ]
  },
  {
   "cell_type": "markdown",
   "metadata": {},
   "source": [
    "adding some lines (Shapely's LineString)..."
   ]
  },
  {
   "cell_type": "code",
   "execution_count": 31,
   "metadata": {
    "collapsed": false
   },
   "outputs": [
    {
     "data": {
      "text/plain": [
       "shapely.geometry.linestring.LineString"
      ]
     },
     "execution_count": 31,
     "metadata": {},
     "output_type": "execute_result"
    }
   ],
   "source": [
    "# Adding a 3rd point: Opendot to Duomo via Navigli\n",
    "navigli = Point(9.177940,45.452380)\n",
    "navigli.name= \"Navigli\"\n",
    "\n",
    "# create a line\n",
    "opendot_2_domm =  LineString([opendot, navigli, domm])\n",
    "type(opendot_2_domm)"
   ]
  },
  {
   "cell_type": "code",
   "execution_count": 14,
   "metadata": {
    "collapsed": false
   },
   "outputs": [
    {
     "ename": "NameError",
     "evalue": "name 'opendot_2_domm' is not defined",
     "output_type": "error",
     "traceback": [
      "\u001b[0;31m---------------------------------------------------------------------------\u001b[0m",
      "\u001b[0;31mNameError\u001b[0m                                 Traceback (most recent call last)",
      "\u001b[0;32m<ipython-input-14-d26a3cd0046c>\u001b[0m in \u001b[0;36m<module>\u001b[0;34m()\u001b[0m\n\u001b[1;32m      1\u001b[0m \u001b[0;31m# being a python object, you can invoke its methods as well..\u001b[0m\u001b[0;34m\u001b[0m\u001b[0;34m\u001b[0m\u001b[0m\n\u001b[0;32m----> 2\u001b[0;31m \u001b[0;32mprint\u001b[0m \u001b[0;34m\"the total lenght of this line is {} decimal degrees\"\u001b[0m\u001b[0;34m.\u001b[0m\u001b[0mformat\u001b[0m\u001b[0;34m(\u001b[0m\u001b[0mopendot_2_domm\u001b[0m\u001b[0;34m.\u001b[0m\u001b[0mlength\u001b[0m\u001b[0;34m)\u001b[0m\u001b[0;34m\u001b[0m\u001b[0m\n\u001b[0m",
      "\u001b[0;31mNameError\u001b[0m: name 'opendot_2_domm' is not defined"
     ]
    }
   ],
   "source": [
    "# being a python object, you can invoke its methods as well..\n",
    "print \"the total lenght of this line is {} decimal degrees\".format(opendot_2_domm.length)"
   ]
  },
  {
   "cell_type": "markdown",
   "metadata": {},
   "source": [
    "let's see what we got here. We are going to plot the geometries using the famous Python plotting library [matplotlib](https://matplotlib.org/). "
   ]
  },
  {
   "cell_type": "code",
   "execution_count": 33,
   "metadata": {
    "collapsed": false
   },
   "outputs": [
    {
     "data": {
      "image/png": "[encoded data removed]",
      "text/plain": [
       "<matplotlib.figure.Figure at 0x117ac6290>"
      ]
     },
     "metadata": {},
     "output_type": "display_data"
    }
   ],
   "source": [
    "# extract coordinates to plot\n",
    "x,y = opendot_2_domm.xy\n",
    "\n",
    "# define a \"figure\" environment\n",
    "fig = plt.figure(1, figsize=(5,5), dpi=90)\n",
    "\n",
    "# add a subplot environment in case we want multiple plots\n",
    "ax = fig.add_subplot(111)\n",
    "\n",
    "# add some style\n",
    "ax.plot(x, y, color='#6699cc', alpha=0.7,\n",
    "    linewidth=3, solid_capstyle='round', zorder=2)\n",
    "\n",
    "# set the title\n",
    "ax.set_title('OpenDot to Duomo')\n",
    "\n",
    "# plot!\n",
    "plt.show()"
   ]
  },
  {
   "cell_type": "markdown",
   "metadata": {},
   "source": [
    "and a Polygon (you get the idea...)"
   ]
  },
  {
   "cell_type": "code",
   "execution_count": 34,
   "metadata": {
    "collapsed": false
   },
   "outputs": [],
   "source": [
    "domm_shape = Polygon([(\n",
    "        9.19055700302124,\n",
    "        45.46389314420728\n",
    "    ),\n",
    "    (\n",
    "        9.19257402420044,\n",
    "        45.46389314420728\n",
    "    ),\n",
    "    (\n",
    "        9.19257402420044,\n",
    "        45.46448007254733\n",
    "    ),\n",
    "    (\n",
    "        9.19055700302124,\n",
    "        45.46448007254733\n",
    "    ),\n",
    "    (\n",
    "        9.19055700302124,\n",
    "        45.46389314420728\n",
    "    )])"
   ]
  },
  {
   "cell_type": "code",
   "execution_count": 35,
   "metadata": {
    "collapsed": true
   },
   "outputs": [],
   "source": [
    "# Calculate the polygon centroid\n",
    "domm_shape_centroid = domm_shape.centroid\n",
    "    \n",
    "# ...its area\n",
    "domm_shape_area = domm_shape.area\n",
    "\n",
    "# ...bounding box\n",
    "domm_shape_bbox = domm_shape.bounds\n",
    "\n",
    "# ...perimeter\n",
    "domm_shape_ext = domm_shape.exterior\n",
    "\n",
    "# the length of the exterior\n",
    "domm_shape_ext_length = domm_shape.length"
   ]
  },
  {
   "cell_type": "markdown",
   "metadata": {},
   "source": [
    "### Geometry operations\n",
    "\n",
    "Once built, operating on Shapely's geometries is then pretty straightforward."
   ]
  },
  {
   "cell_type": "code",
   "execution_count": 36,
   "metadata": {
    "collapsed": false
   },
   "outputs": [],
   "source": [
    "# make a buffer around Opendot's location\n",
    "opendot_buffer = opendot.buffer(0.005)"
   ]
  },
  {
   "cell_type": "code",
   "execution_count": 37,
   "metadata": {
    "collapsed": false
   },
   "outputs": [
    {
     "name": "stdout",
     "output_type": "stream",
     "text": [
      "It is True that Opendot location is within its buffer\n",
      "Does this buffer contain Duomo's location? False \n",
      "is the path from Opendot to Duomo crossing the buffer? True\n"
     ]
    }
   ],
   "source": [
    "# check if Opendot itself is contained in it\n",
    "print \"It is {} that Opendot location is within its buffer\".format(opendot.within(opendot_buffer))\n",
    "\n",
    "# check if the buffer contains duomo\n",
    "print \"Does this buffer contain Duomo's location? {} \".format(opendot_buffer.contains(domm)) \n",
    "\n",
    "print \"is the path from Opendot to Duomo crossing the buffer? {}\".format(opendot_2_domm.intersects(opendot_buffer))\n"
   ]
  },
  {
   "cell_type": "markdown",
   "metadata": {},
   "source": [
    "## I/O with Fiona\n",
    "\n",
    "Fiona is *\"OGR's neat and nimble API for Python programmers\"* (source [Fiona Docs](https://github.com/Toblerity/Fiona)). It exposes an interface to OGR, C++ open source library for vector formats I/O and conversion. This means that you can use Python to read (and write) a variety of vector file formats!\n",
    "\n",
    "So let's use Fiona save our points to a ShapeFile"
   ]
  },
  {
   "cell_type": "code",
   "execution_count": 38,
   "metadata": {
    "collapsed": false
   },
   "outputs": [],
   "source": [
    "# schema to mimic a GeoJSON structure\n",
    "schema = {'geometry': 'Point', 'properties': {'name': 'str'}}\n",
    "\n",
    "# array containing multiple objects\n",
    "points = [domm, navigli, opendot]\n",
    "\n",
    "# write file to the filesystem\n",
    "with collection(\"points.shp\", \"w\", \"ESRI Shapefile\", schema) as output:\n",
    "    for point in points:\n",
    "        output.write({\n",
    "            'properties': {\n",
    "                'name': point.name\n",
    "            },\n",
    "            'geometry': mapping(point)\n",
    "        })"
   ]
  },
  {
   "cell_type": "markdown",
   "metadata": {},
   "source": [
    "if we then combine Fiona's IO capabilities with the \"Shapely way\" of manipulating geometries we can obtain pretty sweet results. Note how we use the `buffer()` method from Shapely directly when writing a new file?"
   ]
  },
  {
   "cell_type": "code",
   "execution_count": 39,
   "metadata": {
    "collapsed": true
   },
   "outputs": [],
   "source": [
    "with collection(\"points.shp\", \"r\") as input:\n",
    "    schema = {'geometry': 'Polygon', 'properties': {'name': 'str'}}\n",
    "    with collection( \"points_buffer.shp\", \"w\", \"ESRI Shapefile\", schema) as output:\n",
    "        for point in input:\n",
    "            output.write({\n",
    "                'properties': {\n",
    "                    'name': point['properties']['name']\n",
    "                },\n",
    "                'geometry': mapping(shape(point['geometry']).buffer(0.005))\n",
    "            })"
   ]
  },
  {
   "cell_type": "markdown",
   "metadata": {},
   "source": [
    "Ok, that was the low level way of building and working with geographic features...But there must be an easier way!\n",
    "\n",
    "![](../imgs/easier.jpg)\n",
    "\n",
    "# ENTER (GEO)PANDAS!"
   ]
  },
  {
   "cell_type": "markdown",
   "metadata": {},
   "source": [
    "A **Geopandas dataframe** implements a Pandas-like datastructure, with the additional feature of understanding spatial data, effectively extending Pandas' lexycon into the geospatial world!\n",
    "\n",
    "From the [Geopandas Docs](http://geopandas.org/):\n",
    "> [Geopandas] allows spatial operations on geometric types. Geometric operations are performed by **shapely**. Geopandas further depends on **fiona** for file access and descartes and **matplotlib** for plotting\n",
    "\n",
    "Look at the names in bold; do the sound familiar? ;)\n",
    "\n",
    "Let's see what we can do with GeoPandas:"
   ]
  },
  {
   "cell_type": "code",
   "execution_count": 55,
   "metadata": {
    "collapsed": false,
    "scrolled": true
   },
   "outputs": [
    {
     "data": {
      "text/html": [
       "<div>\n",
       "<table border=\"1\" class=\"dataframe\">\n",
       "  <thead>\n",
       "    <tr style=\"text-align: right;\">\n",
       "      <th></th>\n",
       "      <th>geometry</th>\n",
       "      <th>name</th>\n",
       "    </tr>\n",
       "  </thead>\n",
       "  <tbody>\n",
       "    <tr>\n",
       "      <th>0</th>\n",
       "      <td>POLYGON ((9.196068 45.464041, 9.19604392363336...</td>\n",
       "      <td>Duomo</td>\n",
       "    </tr>\n",
       "    <tr>\n",
       "      <th>1</th>\n",
       "      <td>POLYGON ((9.18294 45.45238, 9.182915923633361 ...</td>\n",
       "      <td>Navigli</td>\n",
       "    </tr>\n",
       "    <tr>\n",
       "      <th>2</th>\n",
       "      <td>POLYGON ((9.226946000000002 45.447798, 9.22692...</td>\n",
       "      <td>OpenDot</td>\n",
       "    </tr>\n",
       "  </tbody>\n",
       "</table>\n",
       "</div>"
      ],
      "text/plain": [
       "                                            geometry     name\n",
       "0  POLYGON ((9.196068 45.464041, 9.19604392363336...    Duomo\n",
       "1  POLYGON ((9.18294 45.45238, 9.182915923633361 ...  Navigli\n",
       "2  POLYGON ((9.226946000000002 45.447798, 9.22692...  OpenDot"
      ]
     },
     "execution_count": 55,
     "metadata": {},
     "output_type": "execute_result"
    }
   ],
   "source": [
    "# importing a shapefile is a breeze with Geopandas!\n",
    "buffers = gpd.read_file(filename=\"points_buffer.shp\")\n",
    "buffers.head()"
   ]
  },
  {
   "cell_type": "code",
   "execution_count": 56,
   "metadata": {
    "collapsed": false
   },
   "outputs": [
    {
     "data": {
      "image/png": "[encoded data removed]",
      "text/plain": [
       "<matplotlib.figure.Figure at 0x117280210>"
      ]
     },
     "metadata": {},
     "output_type": "display_data"
    }
   ],
   "source": [
    "buffers.plot()\n",
    "plt.show()"
   ]
  },
  {
   "cell_type": "markdown",
   "metadata": {},
   "source": [
    "but let's some more meaningful dataset...like the BikeMi stations and Milan's census blocks (NIL)"
   ]
  },
  {
   "cell_type": "code",
   "execution_count": 57,
   "metadata": {
    "collapsed": false
   },
   "outputs": [
    {
     "data": {
      "text/html": [
       "<div>\n",
       "<table border=\"1\" class=\"dataframe\">\n",
       "  <thead>\n",
       "    <tr style=\"text-align: right;\">\n",
       "      <th></th>\n",
       "      <th>ANNO</th>\n",
       "      <th>BIKE_SH</th>\n",
       "      <th>ID</th>\n",
       "      <th>INDIRIZZO</th>\n",
       "      <th>LOCALIZ</th>\n",
       "      <th>STALLI</th>\n",
       "      <th>geometry</th>\n",
       "    </tr>\n",
       "  </thead>\n",
       "  <tbody>\n",
       "    <tr>\n",
       "      <th>0</th>\n",
       "      <td>2008</td>\n",
       "      <td>001 Duomo 1</td>\n",
       "      <td>1</td>\n",
       "      <td>P.za Duomo</td>\n",
       "      <td>Carreggiata</td>\n",
       "      <td>24</td>\n",
       "      <td>POINT (1514805.505151672 5034614.816062573)</td>\n",
       "    </tr>\n",
       "    <tr>\n",
       "      <th>1</th>\n",
       "      <td>2008</td>\n",
       "      <td>002 San Babila</td>\n",
       "      <td>2</td>\n",
       "      <td>P.za S.Babila</td>\n",
       "      <td>Marciapiede</td>\n",
       "      <td>24</td>\n",
       "      <td>POINT (1515473.721959682 5034810.752500436)</td>\n",
       "    </tr>\n",
       "    <tr>\n",
       "      <th>2</th>\n",
       "      <td>2008</td>\n",
       "      <td>003 Cadorna 1</td>\n",
       "      <td>3</td>\n",
       "      <td>P.za Cadorna</td>\n",
       "      <td>Marciapiede</td>\n",
       "      <td>21</td>\n",
       "      <td>POINT (1513759.627472495 5034976.764064158)</td>\n",
       "    </tr>\n",
       "    <tr>\n",
       "      <th>3</th>\n",
       "      <td>2008</td>\n",
       "      <td>004 Lanza</td>\n",
       "      <td>4</td>\n",
       "      <td>L.go Greppi</td>\n",
       "      <td>Marciapiede</td>\n",
       "      <td>24</td>\n",
       "      <td>POINT (1514251.704793887 5035452.372596722)</td>\n",
       "    </tr>\n",
       "    <tr>\n",
       "      <th>4</th>\n",
       "      <td>2008</td>\n",
       "      <td>005 Università Cattolica</td>\n",
       "      <td>5</td>\n",
       "      <td>P.za S.Ambrogio</td>\n",
       "      <td>Marciapiede</td>\n",
       "      <td>24</td>\n",
       "      <td>POINT (1513826.207538738 5034425.72845157)</td>\n",
       "    </tr>\n",
       "  </tbody>\n",
       "</table>\n",
       "</div>"
      ],
      "text/plain": [
       "   ANNO                   BIKE_SH  ID        INDIRIZZO      LOCALIZ  STALLI  \\\n",
       "0  2008               001 Duomo 1   1       P.za Duomo  Carreggiata      24   \n",
       "1  2008            002 San Babila   2    P.za S.Babila  Marciapiede      24   \n",
       "2  2008             003 Cadorna 1   3     P.za Cadorna  Marciapiede      21   \n",
       "3  2008                 004 Lanza   4      L.go Greppi  Marciapiede      24   \n",
       "4  2008  005 Università Cattolica   5  P.za S.Ambrogio  Marciapiede      24   \n",
       "\n",
       "                                      geometry  \n",
       "0  POINT (1514805.505151672 5034614.816062573)  \n",
       "1  POINT (1515473.721959682 5034810.752500436)  \n",
       "2  POINT (1513759.627472495 5034976.764064158)  \n",
       "3  POINT (1514251.704793887 5035452.372596722)  \n",
       "4   POINT (1513826.207538738 5034425.72845157)  "
      ]
     },
     "execution_count": 57,
     "metadata": {},
     "output_type": "execute_result"
    }
   ],
   "source": [
    "# import BikeMi stations\n",
    "bike_mi = gpd.read_file(filename=\"../data/BIKE_SH.shp\")\n",
    "# check the intial rows\n",
    "bike_mi.head()"
   ]
  },
  {
   "cell_type": "markdown",
   "metadata": {},
   "source": [
    "See that field called **geometry**? That's where the spatial representation of each feature in the dataset gets saved. As mentioned before, the features are stored using Shapely's model. It is therefore possible to interact with them using the usual functionalities of Shapely! \n",
    "\n",
    "The geometry field is also useful for (re)projecting the data and/or modify the features"
   ]
  },
  {
   "cell_type": "code",
   "execution_count": 58,
   "metadata": {
    "collapsed": false
   },
   "outputs": [
    {
     "name": "stdout",
     "output_type": "stream",
     "text": [
      "{u'lon_0': 9, u'k': 0.9996, u'ellps': u'intl', u'y_0': 0, u'no_defs': True, u'proj': u'tmerc', u'x_0': 1500000, u'units': u'm', u'lat_0': 0}\n"
     ]
    }
   ],
   "source": [
    "# what is bike_mi's initial projection?\n",
    "print bike_mi.crs\n",
    "\n",
    "# save the shapefile CRS in a variable for later use\n",
    "prj = bike_mi.crs"
   ]
  },
  {
   "cell_type": "markdown",
   "metadata": {},
   "source": [
    "Geopandas allows also a *quick-and-easy* way to visually inspect the data"
   ]
  },
  {
   "cell_type": "code",
   "execution_count": 59,
   "metadata": {
    "collapsed": false
   },
   "outputs": [
    {
     "data": {
      "image/png": "[encoded data removed]",
      "text/plain": [
       "<matplotlib.figure.Figure at 0x1171ecf50>"
      ]
     },
     "metadata": {},
     "output_type": "display_data"
    }
   ],
   "source": [
    "# let's plot the newly imported geometries\n",
    "bike_mi.plot()\n",
    "plt.show()"
   ]
  },
  {
   "cell_type": "markdown",
   "metadata": {},
   "source": [
    "but its true strenght lies in the Pandas datastructure. Manipulating/Slicing/Subsetting data becomes (almost) a breeze. For instance, let's select only the newest BikeMi stations:"
   ]
  },
  {
   "cell_type": "code",
   "execution_count": 60,
   "metadata": {
    "collapsed": false
   },
   "outputs": [
    {
     "data": {
      "text/plain": [
       "array([2008, 2009, 2012, 2011, 2013])"
      ]
     },
     "execution_count": 60,
     "metadata": {},
     "output_type": "execute_result"
    }
   ],
   "source": [
    "# check how many years are present in the data\n",
    "bike_mi.ANNO.unique()"
   ]
  },
  {
   "cell_type": "code",
   "execution_count": 61,
   "metadata": {
    "collapsed": false
   },
   "outputs": [
    {
     "data": {
      "text/html": [
       "<div>\n",
       "<table border=\"1\" class=\"dataframe\">\n",
       "  <thead>\n",
       "    <tr style=\"text-align: right;\">\n",
       "      <th></th>\n",
       "      <th>ANNO</th>\n",
       "      <th>BIKE_SH</th>\n",
       "      <th>ID</th>\n",
       "      <th>INDIRIZZO</th>\n",
       "      <th>LOCALIZ</th>\n",
       "      <th>STALLI</th>\n",
       "      <th>geometry</th>\n",
       "    </tr>\n",
       "  </thead>\n",
       "  <tbody>\n",
       "    <tr>\n",
       "      <th>107</th>\n",
       "      <td>2013</td>\n",
       "      <td>109 Tunisia - Lecco - Bellintani</td>\n",
       "      <td>109</td>\n",
       "      <td>V.le Tunisia - Bellintani</td>\n",
       "      <td>Marciapiede</td>\n",
       "      <td>30</td>\n",
       "      <td>POINT (1516045.226974665 5036023.154826893)</td>\n",
       "    </tr>\n",
       "    <tr>\n",
       "      <th>109</th>\n",
       "      <td>2013</td>\n",
       "      <td>111 B. Marcello - Boscovich</td>\n",
       "      <td>111</td>\n",
       "      <td>Via Benedetto Marcello</td>\n",
       "      <td>Marciapiede</td>\n",
       "      <td>36</td>\n",
       "      <td>POINT (1516248.323389268 5036336.48115693)</td>\n",
       "    </tr>\n",
       "    <tr>\n",
       "      <th>113</th>\n",
       "      <td>2013</td>\n",
       "      <td>115 Caiazzo</td>\n",
       "      <td>115</td>\n",
       "      <td>P.zza Caiazzo</td>\n",
       "      <td>Marciapiede</td>\n",
       "      <td>36</td>\n",
       "      <td>POINT (1516372.610577578 5036899.874652725)</td>\n",
       "    </tr>\n",
       "    <tr>\n",
       "      <th>115</th>\n",
       "      <td>2013</td>\n",
       "      <td>117 Bacone - Monteverdi</td>\n",
       "      <td>117</td>\n",
       "      <td>Via Monteverdi, angolo Bacone</td>\n",
       "      <td>Marciapiede</td>\n",
       "      <td>36</td>\n",
       "      <td>POINT (1516823.976258267 5036469.798320907)</td>\n",
       "    </tr>\n",
       "    <tr>\n",
       "      <th>119</th>\n",
       "      <td>2013</td>\n",
       "      <td>121 Galvani - Copernico</td>\n",
       "      <td>121</td>\n",
       "      <td>Via Gioia, angolo Galvani</td>\n",
       "      <td>Marciapiede</td>\n",
       "      <td>27</td>\n",
       "      <td>POINT (1515497.594797405 5037057.317684159)</td>\n",
       "    </tr>\n",
       "  </tbody>\n",
       "</table>\n",
       "</div>"
      ],
      "text/plain": [
       "     ANNO                           BIKE_SH   ID  \\\n",
       "107  2013  109 Tunisia - Lecco - Bellintani  109   \n",
       "109  2013       111 B. Marcello - Boscovich  111   \n",
       "113  2013                       115 Caiazzo  115   \n",
       "115  2013           117 Bacone - Monteverdi  117   \n",
       "119  2013           121 Galvani - Copernico  121   \n",
       "\n",
       "                         INDIRIZZO      LOCALIZ  STALLI  \\\n",
       "107      V.le Tunisia - Bellintani  Marciapiede      30   \n",
       "109         Via Benedetto Marcello  Marciapiede      36   \n",
       "113                  P.zza Caiazzo  Marciapiede      36   \n",
       "115  Via Monteverdi, angolo Bacone  Marciapiede      36   \n",
       "119      Via Gioia, angolo Galvani  Marciapiede      27   \n",
       "\n",
       "                                        geometry  \n",
       "107  POINT (1516045.226974665 5036023.154826893)  \n",
       "109   POINT (1516248.323389268 5036336.48115693)  \n",
       "113  POINT (1516372.610577578 5036899.874652725)  \n",
       "115  POINT (1516823.976258267 5036469.798320907)  \n",
       "119  POINT (1515497.594797405 5037057.317684159)  "
      ]
     },
     "execution_count": 61,
     "metadata": {},
     "output_type": "execute_result"
    }
   ],
   "source": [
    "# slice the dataset selecting only the stations from 2013\n",
    "stations_2013 = bike_mi[bike_mi.ANNO == 2013]\n",
    "stations_2013.head()"
   ]
  },
  {
   "cell_type": "markdown",
   "metadata": {},
   "source": [
    "## Spatial operations\n",
    "\n",
    "Now that we can harness the power of Geopandas, let's use it in conjuction with Shapely's capabalities. For instance, let's see how many to BikeMi stations are available for each census block.\n",
    "\n",
    "Remember the BikeMi CRS? Before doing anything, we need to make sure both our datasets \"live\" in the same space. or otherwise any geometrical operations will result in an empty set!\n"
   ]
  },
  {
   "cell_type": "code",
   "execution_count": 62,
   "metadata": {
    "collapsed": false
   },
   "outputs": [
    {
     "data": {
      "text/html": [
       "<div>\n",
       "<table border=\"1\" class=\"dataframe\">\n",
       "  <thead>\n",
       "    <tr style=\"text-align: right;\">\n",
       "      <th></th>\n",
       "      <th>AreaHA</th>\n",
       "      <th>AreaMQ</th>\n",
       "      <th>FID_1</th>\n",
       "      <th>FID_1_1</th>\n",
       "      <th>ID_NIL</th>\n",
       "      <th>NIL</th>\n",
       "      <th>geometry</th>\n",
       "    </tr>\n",
       "  </thead>\n",
       "  <tbody>\n",
       "    <tr>\n",
       "      <th>0</th>\n",
       "      <td>70.84658</td>\n",
       "      <td>7.084658e+05</td>\n",
       "      <td>0</td>\n",
       "      <td>0</td>\n",
       "      <td>74</td>\n",
       "      <td>SACCO</td>\n",
       "      <td>POLYGON ((1509552.719044713 5040303.760969574,...</td>\n",
       "    </tr>\n",
       "    <tr>\n",
       "      <th>1</th>\n",
       "      <td>92.67346</td>\n",
       "      <td>9.267346e+05</td>\n",
       "      <td>1</td>\n",
       "      <td>1</td>\n",
       "      <td>82</td>\n",
       "      <td>COMASINA</td>\n",
       "      <td>POLYGON ((1513215.688678416 5041192.970880653,...</td>\n",
       "    </tr>\n",
       "    <tr>\n",
       "      <th>2</th>\n",
       "      <td>56.00979</td>\n",
       "      <td>5.600979e+05</td>\n",
       "      <td>2</td>\n",
       "      <td>2</td>\n",
       "      <td>75</td>\n",
       "      <td>STEPHENSON</td>\n",
       "      <td>POLYGON ((1510129.918986993 5039633.206036629,...</td>\n",
       "    </tr>\n",
       "    <tr>\n",
       "      <th>3</th>\n",
       "      <td>102.44374</td>\n",
       "      <td>1.024437e+06</td>\n",
       "      <td>3</td>\n",
       "      <td>3</td>\n",
       "      <td>66</td>\n",
       "      <td>QT 8</td>\n",
       "      <td>POLYGON ((1511256.433874341 5036831.711316778,...</td>\n",
       "    </tr>\n",
       "    <tr>\n",
       "      <th>4</th>\n",
       "      <td>140.25196</td>\n",
       "      <td>1.402520e+06</td>\n",
       "      <td>4</td>\n",
       "      <td>4</td>\n",
       "      <td>29</td>\n",
       "      <td>ORTOMERCATO</td>\n",
       "      <td>POLYGON ((1518588.94814109 5033641.931635757, ...</td>\n",
       "    </tr>\n",
       "  </tbody>\n",
       "</table>\n",
       "</div>"
      ],
      "text/plain": [
       "      AreaHA        AreaMQ  FID_1  FID_1_1  ID_NIL          NIL  \\\n",
       "0   70.84658  7.084658e+05      0        0      74        SACCO   \n",
       "1   92.67346  9.267346e+05      1        1      82     COMASINA   \n",
       "2   56.00979  5.600979e+05      2        2      75   STEPHENSON   \n",
       "3  102.44374  1.024437e+06      3        3      66         QT 8   \n",
       "4  140.25196  1.402520e+06      4        4      29  ORTOMERCATO   \n",
       "\n",
       "                                            geometry  \n",
       "0  POLYGON ((1509552.719044713 5040303.760969574,...  \n",
       "1  POLYGON ((1513215.688678416 5041192.970880653,...  \n",
       "2  POLYGON ((1510129.918986993 5039633.206036629,...  \n",
       "3  POLYGON ((1511256.433874341 5036831.711316778,...  \n",
       "4  POLYGON ((1518588.94814109 5033641.931635757, ...  "
      ]
     },
     "execution_count": 62,
     "metadata": {},
     "output_type": "execute_result"
    }
   ],
   "source": [
    "nil = gpd.read_file(filename=\"../data/NIL/NILZone.shp\")\n",
    "nil.head()"
   ]
  },
  {
   "cell_type": "code",
   "execution_count": 63,
   "metadata": {
    "collapsed": false
   },
   "outputs": [
    {
     "data": {
      "image/png": "[encoded data removed]",
      "text/plain": [
       "<matplotlib.figure.Figure at 0x116f75490>"
      ]
     },
     "metadata": {},
     "output_type": "display_data"
    }
   ],
   "source": [
    "nil.plot()\n",
    "plt.show()"
   ]
  },
  {
   "cell_type": "code",
   "execution_count": 67,
   "metadata": {
    "collapsed": false
   },
   "outputs": [
    {
     "name": "stdout",
     "output_type": "stream",
     "text": [
      "Do the two datasets live in the same CRS? True\n",
      "{u'lon_0': 9, u'k': 0.9996, u'ellps': u'intl', u'y_0': 0, u'no_defs': True, u'proj': u'tmerc', u'x_0': 1500000, u'units': u'm', u'lat_0': 0} {u'lon_0': 9, u'k': 0.9996, u'ellps': u'intl', u'y_0': 0, u'no_defs': True, u'proj': u'tmerc', u'x_0': 1500000, u'units': u'm', u'lat_0': 0}\n"
     ]
    }
   ],
   "source": [
    "# check for CRS equality\n",
    "print \"Do the two datasets live in the same CRS? {}\".format(nil.crs == bike_mi.crs)\n",
    "\n",
    "# newest_stations.crs\n",
    "print \"{} {}\".format(nil.crs, bike_mi.crs)"
   ]
  },
  {
   "cell_type": "markdown",
   "metadata": {},
   "source": [
    "If Shapely is used to perform operations on the geometries, Geopandas has really convenient methods to perform other \"classic\" GIS functions, such as **Spatial Joins** (in addition to regular joins). \n",
    "\n",
    "A spatial join is simply a way to merge two datasets on their spatial relationship, rather than on a common property (such as in a SQL join). The output is a new dataset (similary to, for instance a count-in-polygon/select-by-location method of some GIS softwares), with the addition of merging the characteristics of the two original datasets. \n",
    "\n",
    "There are three possible types of Spatial Joins, according to the relation between the features:\n",
    "- intersects\n",
    "- within\n",
    "- contains\n",
    "\n",
    "Let's use our previously calculated buffers to select only stations nearby Duomo. We have to:\n",
    "- Join the BikeMi stations with the buffers, thereby obtaining a new dataset with an additional field \"name\".\n",
    "- Use such field to subset the newly created dataset and select only the appropriate stations"
   ]
  },
  {
   "cell_type": "code",
   "execution_count": 68,
   "metadata": {
    "collapsed": false
   },
   "outputs": [
    {
     "data": {
      "text/html": [
       "<div>\n",
       "<table border=\"1\" class=\"dataframe\">\n",
       "  <thead>\n",
       "    <tr style=\"text-align: right;\">\n",
       "      <th></th>\n",
       "      <th>AreaHA</th>\n",
       "      <th>AreaMQ</th>\n",
       "      <th>FID_1</th>\n",
       "      <th>FID_1_1</th>\n",
       "      <th>ID_NIL</th>\n",
       "      <th>NIL</th>\n",
       "      <th>geometry</th>\n",
       "      <th>index_right</th>\n",
       "      <th>ANNO</th>\n",
       "      <th>BIKE_SH</th>\n",
       "      <th>ID</th>\n",
       "      <th>INDIRIZZO</th>\n",
       "      <th>LOCALIZ</th>\n",
       "      <th>STALLI</th>\n",
       "    </tr>\n",
       "  </thead>\n",
       "  <tbody>\n",
       "    <tr>\n",
       "      <th>27</th>\n",
       "      <td>220.74874</td>\n",
       "      <td>2.207487e+06</td>\n",
       "      <td>27</td>\n",
       "      <td>27</td>\n",
       "      <td>22</td>\n",
       "      <td>CITTA' STUDI</td>\n",
       "      <td>POLYGON ((1518351.398164845 5035093.556490595,...</td>\n",
       "      <td>185</td>\n",
       "      <td>2013</td>\n",
       "      <td>214 Piazzale Susa</td>\n",
       "      <td>214</td>\n",
       "      <td>Isola spartitraffico Sidoli - Romagna</td>\n",
       "      <td>Marciapiede</td>\n",
       "      <td>30</td>\n",
       "    </tr>\n",
       "    <tr>\n",
       "      <th>27</th>\n",
       "      <td>220.74874</td>\n",
       "      <td>2.207487e+06</td>\n",
       "      <td>27</td>\n",
       "      <td>27</td>\n",
       "      <td>22</td>\n",
       "      <td>CITTA' STUDI</td>\n",
       "      <td>POLYGON ((1518351.398164845 5035093.556490595,...</td>\n",
       "      <td>186</td>\n",
       "      <td>2013</td>\n",
       "      <td>215 Politecnico 1</td>\n",
       "      <td>215</td>\n",
       "      <td>piazzale Leonardo da Vinci lato nord</td>\n",
       "      <td>Marciapiede</td>\n",
       "      <td>36</td>\n",
       "    </tr>\n",
       "    <tr>\n",
       "      <th>27</th>\n",
       "      <td>220.74874</td>\n",
       "      <td>2.207487e+06</td>\n",
       "      <td>27</td>\n",
       "      <td>27</td>\n",
       "      <td>22</td>\n",
       "      <td>CITTA' STUDI</td>\n",
       "      <td>POLYGON ((1518351.398164845 5035093.556490595,...</td>\n",
       "      <td>187</td>\n",
       "      <td>2013</td>\n",
       "      <td>216 Romagna - Pascoli</td>\n",
       "      <td>216</td>\n",
       "      <td>Via Pascoli 53</td>\n",
       "      <td>Carreggiata</td>\n",
       "      <td>36</td>\n",
       "    </tr>\n",
       "    <tr>\n",
       "      <th>32</th>\n",
       "      <td>154.80207</td>\n",
       "      <td>1.548021e+06</td>\n",
       "      <td>32</td>\n",
       "      <td>32</td>\n",
       "      <td>4</td>\n",
       "      <td>GUASTALLA</td>\n",
       "      <td>POLYGON ((1516175.103382475 5035420.086457941,...</td>\n",
       "      <td>12</td>\n",
       "      <td>2008</td>\n",
       "      <td>013 Senato</td>\n",
       "      <td>13</td>\n",
       "      <td>Via Senato</td>\n",
       "      <td>Marciapiede</td>\n",
       "      <td>18</td>\n",
       "    </tr>\n",
       "    <tr>\n",
       "      <th>32</th>\n",
       "      <td>154.80207</td>\n",
       "      <td>1.548021e+06</td>\n",
       "      <td>32</td>\n",
       "      <td>32</td>\n",
       "      <td>4</td>\n",
       "      <td>GUASTALLA</td>\n",
       "      <td>POLYGON ((1516175.103382475 5035420.086457941,...</td>\n",
       "      <td>71</td>\n",
       "      <td>2009</td>\n",
       "      <td>073 Majno - Baretti</td>\n",
       "      <td>73</td>\n",
       "      <td>Via Baretti</td>\n",
       "      <td>Carreggiata</td>\n",
       "      <td>24</td>\n",
       "    </tr>\n",
       "  </tbody>\n",
       "</table>\n",
       "</div>"
      ],
      "text/plain": [
       "       AreaHA        AreaMQ  FID_1  FID_1_1  ID_NIL           NIL  \\\n",
       "27  220.74874  2.207487e+06     27       27      22  CITTA' STUDI   \n",
       "27  220.74874  2.207487e+06     27       27      22  CITTA' STUDI   \n",
       "27  220.74874  2.207487e+06     27       27      22  CITTA' STUDI   \n",
       "32  154.80207  1.548021e+06     32       32       4     GUASTALLA   \n",
       "32  154.80207  1.548021e+06     32       32       4     GUASTALLA   \n",
       "\n",
       "                                             geometry  index_right  ANNO  \\\n",
       "27  POLYGON ((1518351.398164845 5035093.556490595,...          185  2013   \n",
       "27  POLYGON ((1518351.398164845 5035093.556490595,...          186  2013   \n",
       "27  POLYGON ((1518351.398164845 5035093.556490595,...          187  2013   \n",
       "32  POLYGON ((1516175.103382475 5035420.086457941,...           12  2008   \n",
       "32  POLYGON ((1516175.103382475 5035420.086457941,...           71  2009   \n",
       "\n",
       "                  BIKE_SH   ID                              INDIRIZZO  \\\n",
       "27      214 Piazzale Susa  214  Isola spartitraffico Sidoli - Romagna   \n",
       "27      215 Politecnico 1  215   piazzale Leonardo da Vinci lato nord   \n",
       "27  216 Romagna - Pascoli  216                         Via Pascoli 53   \n",
       "32             013 Senato   13                             Via Senato   \n",
       "32    073 Majno - Baretti   73                            Via Baretti   \n",
       "\n",
       "        LOCALIZ  STALLI  \n",
       "27  Marciapiede      30  \n",
       "27  Marciapiede      36  \n",
       "27  Carreggiata      36  \n",
       "32  Marciapiede      18  \n",
       "32  Carreggiata      24  "
      ]
     },
     "execution_count": 68,
     "metadata": {},
     "output_type": "execute_result"
    }
   ],
   "source": [
    "# spatial join\n",
    "join = gpd.sjoin(nil, bike_mi, how=\"inner\", op=\"contains\")\n",
    "\n",
    "# Let's check the result\n",
    "join.head()"
   ]
  },
  {
   "cell_type": "markdown",
   "metadata": {},
   "source": [
    "Seems like everything worked fine...to save then the file just use the gppt.file() function, with Fiona drivers"
   ]
  },
  {
   "cell_type": "code",
   "execution_count": 70,
   "metadata": {
    "collapsed": false
   },
   "outputs": [],
   "source": [
    "join.to_file(driver=\"ESRI Shapefile\" ,filename=\"../join.shp\")"
   ]
  },
  {
   "cell_type": "code",
   "execution_count": 103,
   "metadata": {
    "collapsed": false
   },
   "outputs": [
    {
     "data": {
      "image/png": "[encoded data removed]",
      "text/plain": [
       "<matplotlib.figure.Figure at 0x116fe66d0>"
      ]
     },
     "metadata": {},
     "output_type": "display_data"
    }
   ],
   "source": [
    "# plot using Yellow to Green color map from PySAL\n",
    "join.plot(column=\"STALLI\", cmap=\"YlGn\")\n",
    "plt.show()"
   ]
  },
  {
   "cell_type": "code",
   "execution_count": 104,
   "metadata": {
    "collapsed": false
   },
   "outputs": [
    {
     "data": {
      "image/png": "[encoded data removed]",
      "text/plain": [
       "<matplotlib.figure.Figure at 0x1058fe150>"
      ]
     },
     "metadata": {},
     "output_type": "display_data"
    }
   ],
   "source": [
    "# easy calculation of a new field\n",
    "join['stations_by_area'] = join['STALLI'] / join['AreaMQ']\n",
    "\n",
    "# plotting with new color map and classification\n",
    "join.plot(column=\"stations_by_area\", scheme=\"Fisher_Jenks\", k=9, cmap=\"RdYlBu\", linewidth=0);\n",
    "\n",
    "# Use tight layour\n",
    "plt.tight_layout()\n",
    "plt.show()"
   ]
  },
  {
   "cell_type": "markdown",
   "metadata": {},
   "source": [
    "# PLOTTING WITH BOKEH AND FOLIUM"
   ]
  },
  {
   "cell_type": "markdown",
   "metadata": {
    "collapsed": false
   },
   "source": [
    "There are two main libraries for plotting interactive maps in Python, Folium and Bokeh. While Bokeh is the new shiny library that provide interactive charting and visualization capabilities in a python notebook (based on BokehJS), Folium is a more \"tested\" approach that exposes the widespread LeafletJS library to Python.\n",
    "\n",
    "![](../imgs/folium.jpeg)\n"
   ]
  },
  {
   "cell_type": "code",
   "execution_count": 12,
   "metadata": {
    "collapsed": false
   },
   "outputs": [
    {
     "data": {
      "text/html": [
       "<div style=\"width:100%;\"><div style=\"position:relative;width:100%;height:0;padding-bottom:60%;\"><iframe src=\"data:text/html;charset=utf-8;base64,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\" style=\"position:absolute;width:100%;height:100%;left:0;top:0;border:none !important;\" allowfullscreen webkitallowfullscreen mozallowfullscreen></iframe></div></div>"
      ],
      "text/plain": [
       "<folium.folium.Map at 0x115c78950>"
      ]
     },
     "execution_count": 12,
     "metadata": {},
     "output_type": "execute_result"
    }
   ],
   "source": [
    "import folium\n",
    "import pandas as pd\n",
    "\n",
    "\n",
    "map = folium.Map(location=[45.458056, 9.198762], tiles='Stamen Toner',zoom_start=13)\n",
    "folium.Marker(location=[45.447798, 9.221946], popup='Hallo from OpenDot!').add_to(map)\n",
    "folium.Marker(location=[45.464041, 9.191068], popup='La mi bela Madunina!').add_to(map)\n",
    "folium.CircleMarker(location=[45.447798, 9.221946], radius=50,\n",
    "                    popup=\"I'm a polygon..well sort of \", color='#E4819F',\n",
    "                    fill_color='#E4819F').add_to(map)\n",
    "map\n",
    "# if you want to export your map\n",
    "# map.save('easy_map.html')\n"
   ]
  },
  {
   "cell_type": "markdown",
   "metadata": {},
   "source": [
    "while Folium is a nice addition to your Jupyter arsenal -or simply to interact with live maps- if you want *deployable* maps of a certain quality, then I'd say...go directly for [LeafletJS](http://leafletjs.com/) :D"
   ]
  },
  {
   "cell_type": "markdown",
   "metadata": {},
   "source": [
    "![](../imgs/logo.svg)\n",
    "\n",
    "Bokeh is a new(ish) python visualization package which aims to \"targets modern web browsers for presentation\". \n",
    "\n",
    "It exposes different level of API interfaces:\n",
    "\n",
    "> - a low-level bokeh.models interface that provides the most flexibility to application developers.\n",
    "- an intermediate-level bokeh.plotting interface centered around composing visual glyphs.\n",
    "- a high-level bokeh.charts interface to build complex statistical plots quickly and simply.\n",
    "\n",
    "Bokeh projects usually involve a series of\n",
    "steps:\n",
    ">- Read the Shapefile into GeoDataFrame\n",
    "- Calculate the x and y coordinates of the geometries into separate columns\n",
    "- Convert the GeoDataFrame into a Bokeh DataSource\n",
    "- Plot the x and y coordinates as points, lines or polygons (which are in Bokeh words: circle, multi_line and patches)\n",
    "\n",
    "(source [Bokeh Docs](http://bokeh.pydata.org/en/latest/) )"
   ]
  },
  {
   "cell_type": "code",
   "execution_count": 13,
   "metadata": {
    "collapsed": false
   },
   "outputs": [
    {
     "data": {
      "text/html": [
       "\n",
       "    <div class=\"bk-root\">\n",
       "        <a href=\"http://bokeh.pydata.org\" target=\"_blank\" class=\"bk-logo bk-logo-small bk-logo-notebook\"></a>\n",
       "        <span id=\"9f85448d-9003-49a2-bb81-939f1866c03b\">Loading BokehJS ...</span>\n",
       "    </div>"
      ]
     },
     "metadata": {},
     "output_type": "display_data"
    },
    {
     "data": {
      "application/javascript": [
       "\n",
       "(function(global) {\n",
       "  function now() {\n",
       "    return new Date();\n",
       "  }\n",
       "\n",
       "  var force = true;\n",
       "\n",
       "  if (typeof (window._bokeh_onload_callbacks) === \"undefined\" || force === true) {\n",
       "    window._bokeh_onload_callbacks = [];\n",
       "    window._bokeh_is_loading = undefined;\n",
       "  }\n",
       "\n",
       "\n",
       "  \n",
       "  if (typeof (window._bokeh_timeout) === \"undefined\" || force === true) {\n",
       "    window._bokeh_timeout = Date.now() + 5000;\n",
       "    window._bokeh_failed_load = false;\n",
       "  }\n",
       "\n",
       "  var NB_LOAD_WARNING = {'data': {'text/html':\n",
       "     \"<div style='background-color: #fdd'>\\n\"+\n",
       "     \"<p>\\n\"+\n",
       "     \"BokehJS does not appear to have successfully loaded. If loading BokehJS from CDN, this \\n\"+\n",
       "     \"may be due to a slow or bad network connection. Possible fixes:\\n\"+\n",
       "     \"</p>\\n\"+\n",
       "     \"<ul>\\n\"+\n",
       "     \"<li>re-rerun `output_notebook()` to attempt to load from CDN again, or</li>\\n\"+\n",
       "     \"<li>use INLINE resources instead, as so:</li>\\n\"+\n",
       "     \"</ul>\\n\"+\n",
       "     \"<code>\\n\"+\n",
       "     \"from bokeh.resources import INLINE\\n\"+\n",
       "     \"output_notebook(resources=INLINE)\\n\"+\n",
       "     \"</code>\\n\"+\n",
       "     \"</div>\"}};\n",
       "\n",
       "  function display_loaded() {\n",
       "    if (window.Bokeh !== undefined) {\n",
       "      var el = document.getElementById(\"9f85448d-9003-49a2-bb81-939f1866c03b\");\n",
       "      el.textContent = \"BokehJS \" + Bokeh.version + \" successfully loaded.\";\n",
       "    } else if (Date.now() < window._bokeh_timeout) {\n",
       "      setTimeout(display_loaded, 100)\n",
       "    }\n",
       "  }\n",
       "\n",
       "  function run_callbacks() {\n",
       "    window._bokeh_onload_callbacks.forEach(function(callback) { callback() });\n",
       "    delete window._bokeh_onload_callbacks\n",
       "    console.info(\"Bokeh: all callbacks have finished\");\n",
       "  }\n",
       "\n",
       "  function load_libs(js_urls, callback) {\n",
       "    window._bokeh_onload_callbacks.push(callback);\n",
       "    if (window._bokeh_is_loading > 0) {\n",
       "      console.log(\"Bokeh: BokehJS is being loaded, scheduling callback at\", now());\n",
       "      return null;\n",
       "    }\n",
       "    if (js_urls == null || js_urls.length === 0) {\n",
       "      run_callbacks();\n",
       "      return null;\n",
       "    }\n",
       "    console.log(\"Bokeh: BokehJS not loaded, scheduling load and callback at\", now());\n",
       "    window._bokeh_is_loading = js_urls.length;\n",
       "    for (var i = 0; i < js_urls.length; i++) {\n",
       "      var url = js_urls[i];\n",
       "      var s = document.createElement('script');\n",
       "      s.src = url;\n",
       "      s.async = false;\n",
       "      s.onreadystatechange = s.onload = function() {\n",
       "        window._bokeh_is_loading--;\n",
       "        if (window._bokeh_is_loading === 0) {\n",
       "          console.log(\"Bokeh: all BokehJS libraries loaded\");\n",
       "          run_callbacks()\n",
       "        }\n",
       "      };\n",
       "      s.onerror = function() {\n",
       "        console.warn(\"failed to load library \" + url);\n",
       "      };\n",
       "      console.log(\"Bokeh: injecting script tag for BokehJS library: \", url);\n",
       "      document.getElementsByTagName(\"head\")[0].appendChild(s);\n",
       "    }\n",
       "  };var element = document.getElementById(\"9f85448d-9003-49a2-bb81-939f1866c03b\");\n",
       "  if (element == null) {\n",
       "    console.log(\"Bokeh: ERROR: autoload.js configured with elementid '9f85448d-9003-49a2-bb81-939f1866c03b' but no matching script tag was found. \")\n",
       "    return false;\n",
       "  }\n",
       "\n",
       "  var js_urls = [\"https://cdn.pydata.org/bokeh/release/bokeh-0.12.5.min.js\", \"https://cdn.pydata.org/bokeh/release/bokeh-widgets-0.12.5.min.js\"];\n",
       "\n",
       "  var inline_js = [\n",
       "    function(Bokeh) {\n",
       "      Bokeh.set_log_level(\"info\");\n",
       "    },\n",
       "    \n",
       "    function(Bokeh) {\n",
       "      \n",
       "    },\n",
       "    \n",
       "    function(Bokeh) {\n",
       "      \n",
       "      document.getElementById(\"9f85448d-9003-49a2-bb81-939f1866c03b\").textContent = \"BokehJS is loading...\";\n",
       "    },\n",
       "    function(Bokeh) {\n",
       "      console.log(\"Bokeh: injecting CSS: https://cdn.pydata.org/bokeh/release/bokeh-0.12.5.min.css\");\n",
       "      Bokeh.embed.inject_css(\"https://cdn.pydata.org/bokeh/release/bokeh-0.12.5.min.css\");\n",
       "      console.log(\"Bokeh: injecting CSS: https://cdn.pydata.org/bokeh/release/bokeh-widgets-0.12.5.min.css\");\n",
       "      Bokeh.embed.inject_css(\"https://cdn.pydata.org/bokeh/release/bokeh-widgets-0.12.5.min.css\");\n",
       "    }\n",
       "  ];\n",
       "\n",
       "  function run_inline_js() {\n",
       "    \n",
       "    if ((window.Bokeh !== undefined) || (force === true)) {\n",
       "      for (var i = 0; i < inline_js.length; i++) {\n",
       "        inline_js[i](window.Bokeh);\n",
       "      }if (force === true) {\n",
       "        display_loaded();\n",
       "      }} else if (Date.now() < window._bokeh_timeout) {\n",
       "      setTimeout(run_inline_js, 100);\n",
       "    } else if (!window._bokeh_failed_load) {\n",
       "      console.log(\"Bokeh: BokehJS failed to load within specified timeout.\");\n",
       "      window._bokeh_failed_load = true;\n",
       "    } else if (force !== true) {\n",
       "      var cell = $(document.getElementById(\"9f85448d-9003-49a2-bb81-939f1866c03b\")).parents('.cell').data().cell;\n",
       "      cell.output_area.append_execute_result(NB_LOAD_WARNING)\n",
       "    }\n",
       "\n",
       "  }\n",
       "\n",
       "  if (window._bokeh_is_loading === 0) {\n",
       "    console.log(\"Bokeh: BokehJS loaded, going straight to plotting\");\n",
       "    run_inline_js();\n",
       "  } else {\n",
       "    load_libs(js_urls, function() {\n",
       "      console.log(\"Bokeh: BokehJS plotting callback run at\", now());\n",
       "      run_inline_js();\n",
       "    });\n",
       "  }\n",
       "}(this));"
      ]
     },
     "metadata": {},
     "output_type": "display_data"
    },
    {
     "ename": "NameError",
     "evalue": "name 'join' is not defined",
     "output_type": "error",
     "traceback": [
      "\u001b[0;31m---------------------------------------------------------------------------\u001b[0m",
      "\u001b[0;31mNameError\u001b[0m                                 Traceback (most recent call last)",
      "\u001b[0;32m<ipython-input-13-f26834e8268f>\u001b[0m in \u001b[0;36m<module>\u001b[0;34m()\u001b[0m\n\u001b[1;32m     24\u001b[0m \u001b[0;34m\u001b[0m\u001b[0m\n\u001b[1;32m     25\u001b[0m \u001b[0;31m# Get the Polygon x and y coordinates\u001b[0m\u001b[0;34m\u001b[0m\u001b[0;34m\u001b[0m\u001b[0m\n\u001b[0;32m---> 26\u001b[0;31m \u001b[0mjoin\u001b[0m\u001b[0;34m[\u001b[0m\u001b[0;34m'x'\u001b[0m\u001b[0;34m]\u001b[0m \u001b[0;34m=\u001b[0m \u001b[0mjoin\u001b[0m\u001b[0;34m.\u001b[0m\u001b[0mapply\u001b[0m\u001b[0;34m(\u001b[0m\u001b[0mgetPolyCoords\u001b[0m\u001b[0;34m,\u001b[0m \u001b[0mgeom\u001b[0m\u001b[0;34m=\u001b[0m\u001b[0;34m'geometry'\u001b[0m\u001b[0;34m,\u001b[0m \u001b[0mcoord_type\u001b[0m\u001b[0;34m=\u001b[0m\u001b[0;34m'x'\u001b[0m\u001b[0;34m,\u001b[0m \u001b[0maxis\u001b[0m\u001b[0;34m=\u001b[0m\u001b[0;36m1\u001b[0m\u001b[0;34m)\u001b[0m\u001b[0;34m\u001b[0m\u001b[0m\n\u001b[0m\u001b[1;32m     27\u001b[0m \u001b[0mjoin\u001b[0m\u001b[0;34m[\u001b[0m\u001b[0;34m'y'\u001b[0m\u001b[0;34m]\u001b[0m \u001b[0;34m=\u001b[0m \u001b[0mjoin\u001b[0m\u001b[0;34m.\u001b[0m\u001b[0mapply\u001b[0m\u001b[0;34m(\u001b[0m\u001b[0mgetPolyCoords\u001b[0m\u001b[0;34m,\u001b[0m \u001b[0mgeom\u001b[0m\u001b[0;34m=\u001b[0m\u001b[0;34m'geometry'\u001b[0m\u001b[0;34m,\u001b[0m \u001b[0mcoord_type\u001b[0m\u001b[0;34m=\u001b[0m\u001b[0;34m'y'\u001b[0m\u001b[0;34m,\u001b[0m \u001b[0maxis\u001b[0m\u001b[0;34m=\u001b[0m\u001b[0;36m1\u001b[0m\u001b[0;34m)\u001b[0m\u001b[0;34m\u001b[0m\u001b[0m\n\u001b[1;32m     28\u001b[0m \u001b[0;34m\u001b[0m\u001b[0m\n",
      "\u001b[0;31mNameError\u001b[0m: name 'join' is not defined"
     ]
    }
   ],
   "source": [
    "from bokeh.plotting import figure, save, output_notebook, show\n",
    "from bokeh.models import ColumnDataSource, HoverTool, LogColorMapper, WheelZoomTool\n",
    "import geopandas as gpd\n",
    "import pysal as ps\n",
    "\n",
    "output_notebook()\n",
    "# Initialize the plot (p) and give it a title\n",
    "# p = figure(title=\"NIL plot with bokec!\")\n",
    "\n",
    "\n",
    "# courtesy of https://automating-gis-processes.github.io/2016/Lesson5-interactive-map-bokeh.html\n",
    "def getPolyCoords(row, geom, coord_type):\n",
    "    \"\"\"Returns the coordinates ('x' or 'y') of edges of a Polygon exterior\"\"\"\n",
    "\n",
    "    # Parse the exterior of the coordinate\n",
    "    exterior = row[geom].exterior\n",
    "\n",
    "    if coord_type == 'x':\n",
    "        # Get the x coordinates of the exterior\n",
    "        return list( exterior.coords.xy[0] )\n",
    "    elif coord_type == 'y':\n",
    "        # Get the y coordinates of the exterior\n",
    "        return list( exterior.coords.xy[1] )\n",
    "\n",
    "# Get the Polygon x and y coordinates\n",
    "join['x'] = join.apply(getPolyCoords, geom='geometry', coord_type='x', axis=1)\n",
    "join['y'] = join.apply(getPolyCoords, geom='geometry', coord_type='y', axis=1)\n",
    "\n",
    "\n",
    "# Make a copy, drop the geometry column and create ColumnDataSource\n",
    "g_df = join.drop('geometry', axis=1).copy()\n",
    "gsource = ColumnDataSource(g_df)\n",
    "\n",
    "# Let's first do some coloring magic that converts the color palet into map numbers (it's okey not to understand)\n",
    "from bokeh.palettes import RdYlBu11 as palette\n",
    "from bokeh.models import LogColorMapper\n",
    "\n",
    "# Create the color mapper\n",
    "color_mapper = LogColorMapper(palette=palette)\n",
    "\n",
    "\n",
    "# Initialize our figure\n",
    "p = figure(title=\"BikeMI Stations' Density - Milan Census Block (NIL) level\")\n",
    "\n",
    "# Plot grid\n",
    "p.patches('x', 'y', source=gsource,\n",
    "         fill_color={'field': 'stations_by_area', 'transform': color_mapper},\n",
    "         fill_alpha=1.0, line_color=\"black\", line_width=0.01)\n",
    "\n",
    "\n",
    "# Save the figure\n",
    "outfp = r\"./index.html\"\n",
    "save(p, outfp)\n",
    "show(p)"
   ]
  },
  {
   "cell_type": "markdown",
   "metadata": {
    "collapsed": true
   },
   "source": [
    "# References\n",
    "\n",
    "All of the above is largely based on the following (awesome!) resource:\n",
    "- [Shapely Docs](http://toblerity.org/shapely/manual.html))\n",
    "- [Tenkanen H. (2016), Automating GIS processes](https://automating-gis-processes.github.io/2016/index.html)\n",
    "- [Westra E. (2013)](https://www.packtpub.com/application-development/python-geospatial-development-second-edition)\n",
    "- [MacWrigh, T. (2013), GIS with Python, Shapely, and Fiona](http://www.macwright.org/2012/10/31/gis-with-python-shapely-fiona.html)"
   ]
  }
 ],
 "metadata": {
  "kernelspec": {
   "display_name": "Python 2",
   "language": "python",
   "name": "python2"
  },
  "language_info": {
   "codemirror_mode": {
    "name": "ipython",
    "version": 2
   },
   "file_extension": ".py",
   "mimetype": "text/x-python",
   "name": "python",
   "nbconvert_exporter": "python",
   "pygments_lexer": "ipython2",
   "version": "2.7.13"
  }
 },
 "nbformat": 4,
 "nbformat_minor": 2
}
