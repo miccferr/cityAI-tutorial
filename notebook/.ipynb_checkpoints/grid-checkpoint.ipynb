{
 "cells": [
  {
   "cell_type": "code",
   "execution_count": 1,
   "metadata": {
    "collapsed": true
   },
   "outputs": [],
   "source": [
    "import geopandas as gpd\n",
    "import numpy as np\n",
    "import pandas as pd\n",
    "import matplotlib.pyplot as plt\n",
    "from shapely.geometry import Polygon\n",
    "import math\n",
    "%matplotlib inline"
   ]
  },
  {
   "cell_type": "code",
   "execution_count": 2,
   "metadata": {
    "collapsed": false
   },
   "outputs": [
    {
     "name": "stdout",
     "output_type": "stream",
     "text": [
      "Input file is \" ny_boros.geojson\n",
      "Output file is \" grid_2000.geojson\n"
     ]
    },
    {
     "data": {
      "text/html": [
       "<div>\n",
       "<table border=\"1\" class=\"dataframe\">\n",
       "  <thead>\n",
       "    <tr style=\"text-align: right;\">\n",
       "      <th></th>\n",
       "      <th>BoroCode</th>\n",
       "      <th>BoroName</th>\n",
       "      <th>OBJECTID</th>\n",
       "      <th>geometry</th>\n",
       "    </tr>\n",
       "  </thead>\n",
       "  <tbody>\n",
       "    <tr>\n",
       "      <th>0</th>\n",
       "      <td>5</td>\n",
       "      <td>Staten Island</td>\n",
       "      <td>1</td>\n",
       "      <td>(POLYGON ((-74.0505095179403 40.5664302602678,...</td>\n",
       "    </tr>\n",
       "    <tr>\n",
       "      <th>1</th>\n",
       "      <td>2</td>\n",
       "      <td>Bronx</td>\n",
       "      <td>2</td>\n",
       "      <td>(POLYGON ((-73.8968102507977 40.7958167216411,...</td>\n",
       "    </tr>\n",
       "    <tr>\n",
       "      <th>2</th>\n",
       "      <td>1</td>\n",
       "      <td>Manhattan</td>\n",
       "      <td>3</td>\n",
       "      <td>(POLYGON ((-74.010929861053 40.684499723222, -...</td>\n",
       "    </tr>\n",
       "    <tr>\n",
       "      <th>3</th>\n",
       "      <td>3</td>\n",
       "      <td>Brooklyn</td>\n",
       "      <td>4</td>\n",
       "      <td>(POLYGON ((-73.8670628908845 40.5820962123833,...</td>\n",
       "    </tr>\n",
       "    <tr>\n",
       "      <th>4</th>\n",
       "      <td>4</td>\n",
       "      <td>Queens</td>\n",
       "      <td>5</td>\n",
       "      <td>(POLYGON ((-73.83668412827549 40.594954936191,...</td>\n",
       "    </tr>\n",
       "  </tbody>\n",
       "</table>\n",
       "</div>"
      ],
      "text/plain": [
       "   BoroCode       BoroName  OBJECTID  \\\n",
       "0         5  Staten Island         1   \n",
       "1         2          Bronx         2   \n",
       "2         1      Manhattan         3   \n",
       "3         3       Brooklyn         4   \n",
       "4         4         Queens         5   \n",
       "\n",
       "                                            geometry  \n",
       "0  (POLYGON ((-74.0505095179403 40.5664302602678,...  \n",
       "1  (POLYGON ((-73.8968102507977 40.7958167216411,...  \n",
       "2  (POLYGON ((-74.010929861053 40.684499723222, -...  \n",
       "3  (POLYGON ((-73.8670628908845 40.5820962123833,...  \n",
       "4  (POLYGON ((-73.83668412827549 40.594954936191,...  "
      ]
     },
     "execution_count": 2,
     "metadata": {},
     "output_type": "execute_result"
    }
   ],
   "source": [
    "meters = 2000\n",
    "inputfile = 'ny_boros.geojson'\n",
    "outputfile = 'grid_' + str(meters) + \".geojson\"\n",
    "\n",
    "print 'Input file is \"', inputfile\n",
    "print 'Output file is \"', outputfile\n",
    "\n",
    "# Load the area\n",
    "boros = gpd.GeoDataFrame.from_file(inputfile)\n",
    "boros.head()\n",
    "\n",
    "#NOTE: if you want to select only one area, you filter using the BoroName column"
   ]
  },
  {
   "cell_type": "code",
   "execution_count": 3,
   "metadata": {
    "collapsed": true
   },
   "outputs": [],
   "source": [
    "# select the epsg considerin your area, http://www.spatialreference.org/ref/epsg/nad83-new-york-long-island-ftus/\n",
    "boros.geometry = boros.geometry.to_crs({'init':'epsg:2236','units':'m'})\n",
    "\n",
    "# Obtain the boundaries of the grid\n",
    "gps = gpd.GeoSeries(boros['geometry'])"
   ]
  },
  {
   "cell_type": "code",
   "execution_count": 26,
   "metadata": {
    "collapsed": false
   },
   "outputs": [
    {
     "name": "stdout",
     "output_type": "stream",
     "text": [
      "x-axis number of squares: 23\n",
      "y-axis number of squares: 25\n",
      "Boundaries\n",
      "{'min_x': 771815.88502796332, 'min_y': 1814271.9497595134, 'max_x': 816810.35775163397, 'max_y': 1863152.1449739903}\n"
     ]
    }
   ],
   "source": [
    "boundaries = dict({'min_x':gps.total_bounds[0],'min_y':gps.total_bounds[1],'max_x':gps.total_bounds[2],'max_y':gps.total_bounds[3]})\n",
    "\n",
    "# Find number of square for each side\n",
    "x_squares = int(math.ceil(math.hypot(boundaries['max_x'] - boundaries['min_x'], 0) / meters))\n",
    "y_squares = int(math.ceil(math.hypot(0, boundaries['min_y'] - boundaries['max_y']) / meters))\n",
    "\n",
    "print \"x-axis number of squares: \" + str(x_squares)\n",
    "print \"y-axis number of squares: \" + str(y_squares)\n",
    "\n",
    "print(\"Boundaries\")\n",
    "print(boundaries)"
   ]
  },
  {
   "cell_type": "code",
   "execution_count": 33,
   "metadata": {
    "collapsed": false
   },
   "outputs": [],
   "source": [
    "polygons = []\n",
    "\n",
    "for i in range(0,x_squares):\n",
    "    # increment x\n",
    "    x1 = boundaries['min_x'] + (meters * i)\n",
    "    x2 = boundaries['min_x'] + (meters * (i+1))\n",
    "    \n",
    "    for j in range(0,y_squares):\n",
    "        # increment y\n",
    "        y1 = boundaries['min_y'] + (meters*j)\n",
    "        y2 = boundaries['min_y'] + (meters* (j+1))\n",
    "        polygon_desc = {}\n",
    "\n",
    "        # Create shape (polygon)\n",
    "        p = Polygon([(x1,y1),(x2,y1),(x2,y2),(x1,y2)])\n",
    "\n",
    "        # Compute centroid coordinates and check if it's inside the area of interest\n",
    "        centroid = p.centroid\n",
    "        s = boros.geometry.intersects(centroid)\n",
    "        t = pd.concat([boros,s],axis=1)\n",
    "        \n",
    "        # Remove all the cells without overlap\n",
    "        if(True in s.values):\n",
    "            polygon_desc['id_x'] = i\n",
    "            polygon_desc['id_y'] = j\n",
    "            polygon_desc['geometry'] = p\n",
    "            polygon_desc['areas'] = ','.join(t[t[0] == True]['BoroName'].values).encode('UTF8')\n",
    "            polygons.append(polygon_desc)"
   ]
  },
  {
   "cell_type": "code",
   "execution_count": 34,
   "metadata": {
    "collapsed": false
   },
   "outputs": [
    {
     "data": {
      "image/png": "[encoded data removed]",
      "text/plain": [
       "<matplotlib.figure.Figure at 0x10e4d07d0>"
      ]
     },
     "metadata": {},
     "output_type": "display_data"
    }
   ],
   "source": [
    "# Create the geoDataFrame and save it into the file\n",
    "gdf = gpd.GeoDataFrame(polygons)\n",
    "\n",
    "base = gdf.plot(color='white')\n",
    "boros.plot(ax=base);\n"
   ]
  },
  {
   "cell_type": "code",
   "execution_count": 35,
   "metadata": {
    "collapsed": true
   },
   "outputs": [],
   "source": [
    "with open(outputfile, 'w') as f:\n",
    "    f.write(gdf.to_json())"
   ]
  },
  {
   "cell_type": "code",
   "execution_count": null,
   "metadata": {
    "collapsed": true
   },
   "outputs": [],
   "source": []
  }
 ],
 "metadata": {
  "kernelspec": {
   "display_name": "Python 2",
   "language": "python",
   "name": "python2"
  },
  "language_info": {
   "codemirror_mode": {
    "name": "ipython",
    "version": 2
   },
   "file_extension": ".py",
   "mimetype": "text/x-python",
   "name": "python",
   "nbconvert_exporter": "python",
   "pygments_lexer": "ipython2",
   "version": "2.7.13"
  }
 },
 "nbformat": 4,
 "nbformat_minor": 1
}
